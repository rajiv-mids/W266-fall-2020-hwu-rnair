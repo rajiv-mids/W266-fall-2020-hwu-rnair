{
 "cells": [
  {
   "cell_type": "markdown",
   "metadata": {},
   "source": [
    "## AMI corpus. \n",
    "Go through the list of files and extract passage and the summaries, using the DialogueActs as intermediary\n",
    "Uses the following mappings:\n",
    "\n",
    "__1__) meeting id -> ordered dict of word id: word\n",
    "\n",
    "__2__) meeting id -> ordered dict of dialog id -> list of (start, end) word ids that form a dialog. \n",
    "\n",
    "__3__) summary_starts, summary_ends -> sets of start and end dialog ids that belong to extractive summaries\n",
    "\n",
    "\n",
    "function `get_words(meeting, start_word=None, end_word=None)` # goes through the meeting and returns words from start to end if provided. Else prints everything\n",
    "\n",
    "function `extract_dialogues(meeting)` # goes through the meeting and returns list of  (dialogue, SummaryFlag) for the meeting\n"
   ]
  },
  {
   "cell_type": "code",
   "execution_count": 1,
   "metadata": {},
   "outputs": [],
   "source": [
    "import glob, os\n",
    "#import xml.etree.ElementTree as et\n",
    "from lxml import etree as et\n",
    "from collections import OrderedDict, defaultdict\n",
    "import matplotlib.pyplot as plt\n",
    "import numpy as np\n",
    "ROOT_DIR = \"/Users/haileywu/Desktop/W266_project/data/AMI_manual/ami_public\""
   ]
  },
  {
   "cell_type": "markdown",
   "metadata": {},
   "source": [
    "### Extract words\n",
    "\n",
    "__1__) meeting id -> ordered dict of word id: word"
   ]
  },
  {
   "cell_type": "code",
   "execution_count": 2,
   "metadata": {
    "scrolled": false
   },
   "outputs": [],
   "source": [
    "meeting_dict = dict() # key = meeting, value = ordered dict of word id: word\n",
    "cur_word = None\n",
    "for word_f in sorted(glob.glob(ROOT_DIR+\"/words/*xml\")):\n",
    "    m = word_f.split(\"/\")[-1].split(\".\")\n",
    "    meeting_name = m[0]+\".\"+m[1]\n",
    "    root = et.parse(word_f).getroot()\n",
    "    nodes = root.findall('*')\n",
    "    meet_words = OrderedDict()\n",
    "\n",
    "    for node in nodes:\n",
    "        if node.tag=='w':\n",
    "            meet_words[node.attrib['{http://nite.sourceforge.net/}id']] = node.text\n",
    "            cur_word = node.text\n",
    "        for w in node.values():\n",
    "            if \"disfmarker\" in w or \"pause\" in w or \"vocalsound\" in w:\n",
    "                meet_words [node.attrib['{http://nite.sourceforge.net/}id']] = None\n",
    "    meeting_dict[meeting_name] = meet_words\n",
    "    \n",
    "#meeting_dict['EN2001a.A']['EN2001a.A.words0']"
   ]
  },
  {
   "cell_type": "code",
   "execution_count": 3,
   "metadata": {},
   "outputs": [
    {
     "data": {
      "text/plain": [
       "'Okay'"
      ]
     },
     "execution_count": 3,
     "metadata": {},
     "output_type": "execute_result"
    }
   ],
   "source": [
    "meeting_dict['EN2001a.A']['EN2001a.A.words0']"
   ]
  },
  {
   "cell_type": "code",
   "execution_count": 4,
   "metadata": {},
   "outputs": [],
   "source": [
    "def get_words(meeting, start=None, end=None):\n",
    "    ret = \"\"\n",
    "    include = False\n",
    "    if start is None:\n",
    "        include = True\n",
    "\n",
    "    for meet_word in meeting_dict[meeting].keys():\n",
    "\n",
    "        if start is not None and meet_word == start:\n",
    "            include = True\n",
    "        if include:\n",
    "            if meeting_dict[meeting][meet_word] is not None:\n",
    "                ret += meeting_dict[meeting][meet_word] + \" \"\n",
    "        if end is not None and meet_word == end:\n",
    "            include = False\n",
    "\n",
    "    return ret\n",
    "\n",
    "#get_words('Bdb001.A', \"Bdb001.w.915\", \"Bdb001.disfmarker.49\")\n",
    "#get_words('Bns002.D')"
   ]
  },
  {
   "cell_type": "code",
   "execution_count": 5,
   "metadata": {},
   "outputs": [
    {
     "data": {
      "text/plain": [
       "'Okay . '"
      ]
     },
     "execution_count": 5,
     "metadata": {},
     "output_type": "execute_result"
    }
   ],
   "source": [
    "get_words('EN2001a.A','EN2001a.A.words0','EN2001a.A.words1')"
   ]
  },
  {
   "cell_type": "markdown",
   "metadata": {},
   "source": [
    "### Extract Dialogues\n",
    "\n",
    "__2__) meeting id -> ordered dict of dialog id -> tuple of (start, end) word ids that form a dialog. "
   ]
  },
  {
   "cell_type": "code",
   "execution_count": 6,
   "metadata": {},
   "outputs": [],
   "source": [
    "meeting_dialogues = dict() # key = meeting name, value = ordered dict of dialog id -> List of (start, end, SummaryFlag) word ids that form a dialog. \n",
    "for dialog_f in sorted(glob.glob(ROOT_DIR+\"/DialogueActs/*act.xml\")):\n",
    "    m = dialog_f.split(\"/\")[-1].split(\".\")\n",
    "    meeting_name = m[0]+\".\"+m[1]\n",
    "    root = et.parse(dialog_f).getroot()\n",
    "    dlist = root.findall('dact')\n",
    "    for dl in dlist:\n",
    "        nodes = dl.findall(\"{http://nite.sourceforge.net/}child\")\n",
    "        dialog_id = dl.attrib['{http://nite.sourceforge.net/}id']\n",
    "\n",
    "        for dl_c in nodes:\n",
    "            words = dl_c.attrib['href']\n",
    "            words = words.split(\"#\")[1]\n",
    "            try:\n",
    "                start, end = words.split(\"..\")\n",
    "                start, end = start.replace(\"id\", \"\"), end.replace(\"id\", \"\")\n",
    "                start, end = start.replace(\"(\", \"\"), end.replace(\"(\", \"\")\n",
    "                start, end = start.replace(\")\", \"\"), end.replace(\")\", \"\")\n",
    "            except:\n",
    "                start = end = words.replace(\"id\", \"\").replace(\"(\", \"\").replace(\")\", \"\")\n",
    "            if meeting_name not in meeting_dialogues:\n",
    "                meeting_dialogues[meeting_name] = OrderedDict()\n",
    "            meeting_dialogues[meeting_name][dialog_id] = [start, end, None]\n",
    "\n"
   ]
  },
  {
   "cell_type": "code",
   "execution_count": 7,
   "metadata": {},
   "outputs": [
    {
     "data": {
      "text/plain": [
       "['ES2002a.A.words0', 'ES2002a.A.words12', None]"
      ]
     },
     "execution_count": 7,
     "metadata": {},
     "output_type": "execute_result"
    }
   ],
   "source": [
    "meeting_dialogues['ES2002a.A']['ES2002a.A.dialog-act.dharshi.1']"
   ]
  },
  {
   "cell_type": "markdown",
   "metadata": {},
   "source": [
    "### Extract summaries"
   ]
  },
  {
   "cell_type": "markdown",
   "metadata": {},
   "source": [
    "__3__) meeting id -> set of dialog ids that belong to extractive summaries"
   ]
  },
  {
   "cell_type": "code",
   "execution_count": 8,
   "metadata": {},
   "outputs": [],
   "source": [
    "summary_starts, summary_ends = set(),set() # key = meeting name, list (2) of set of Dialogue starts and ends\n",
    "\n",
    "for dialog_f in sorted(glob.glob(ROOT_DIR+\"/extractive/*extsumm.xml\")):\n",
    "    m = dialog_f.split(\"/\")[-1].split(\".\")\n",
    "    meeting_name = m[0]+\".\"+m[1]\n",
    "    root = et.parse(dialog_f).getroot()\n",
    "    dlist = root.findall('extsumm/{http://nite.sourceforge.net/}child')\n",
    "    for dl in dlist:\n",
    "        dialogs = dl.attrib['href']\n",
    "        dialogs = dialogs.split(\"#\")[1]\n",
    "        start = end = None\n",
    "        try:\n",
    "            start, end = dialogs.split(\"..\")\n",
    "            start, end = start.replace(\"id\", \"\"), end.replace(\"id\", \"\")\n",
    "            start, end = start.replace(\"(\", \"\"), end.replace(\"(\", \"\")\n",
    "            start, end = start.replace(\")\", \"\"), end.replace(\")\", \"\")\n",
    "        except:\n",
    "            start = end = dialogs.replace(\"id\", \"\").replace(\"(\", \"\").replace(\")\", \"\")\n",
    "        summary_starts.add(start)\n",
    "        summary_ends.add(end)"
   ]
  },
  {
   "cell_type": "code",
   "execution_count": 9,
   "metadata": {
    "scrolled": false
   },
   "outputs": [],
   "source": [
    "def extract_dialogues(meeting):\n",
    "    # loop through all the meetings and (optionally) return only the ones that fall in range of starts/ends\n",
    "    ret = []\n",
    "    dialogues = meeting_dialogues[meeting]\n",
    "    include = False\n",
    "    for dialog, (start_w, end_w, _) in dialogues.items():\n",
    "        if dialog in summary_starts:\n",
    "            include = True\n",
    "        if include:\n",
    "            ret.append((dialog, start_w, end_w, get_words(meeting, start_w, end_w), True))\n",
    "            meeting_dialogues[meeting][dialog][2] = True\n",
    "        else:\n",
    "            ret.append((dialog, start_w, end_w, get_words(meeting, start_w, end_w), False))\n",
    "            meeting_dialogues[meeting][dialog][2] = False\n",
    "        if dialog in summary_ends:\n",
    "            include = False\n",
    "    return ret\n"
   ]
  },
  {
   "cell_type": "code",
   "execution_count": 7,
   "metadata": {
    "scrolled": false
   },
   "outputs": [],
   "source": [
    "#extract_dialogues('Bns002.D')\n"
   ]
  },
  {
   "cell_type": "code",
   "execution_count": 10,
   "metadata": {},
   "outputs": [],
   "source": [
    "import csv\n"
   ]
  },
  {
   "cell_type": "code",
   "execution_count": 17,
   "metadata": {},
   "outputs": [],
   "source": [
    "# go through all meetings and write out dialogues to files\n",
    "with open(\"../data/AMI_manual/T5_csv/ami_ori_extrac.csv\", mode='w') as csv_file:\n",
    "    # ctext is the orginal text, while text is the extractive summary\n",
    "    fieldnames = ['meeting','text', 'ctext']\n",
    "    writer = csv.DictWriter(csv_file, fieldnames=fieldnames)\n",
    "    writer.writeheader()\n",
    "    for meeting in meeting_dialogues.keys():\n",
    "        extractive_summary = \"\"\n",
    "        original_text = \"\"\n",
    "        for _, _, _, diag, summ_flag in extract_dialogues(meeting):\n",
    "            if len(original_text)>= 200:\n",
    "                writer.writerow({'meeting':meeting,'text': extractive_summary, 'ctext': original_text})\n",
    "                extractive_summary = \"\"\n",
    "                original_text = \"\"\n",
    "            if summ_flag == 1: \n",
    "                extractive_summary+= diag + \" \"\n",
    "            original_text+=diag + \" \"\n",
    "        writer.writerow({'meeting':meeting,'text': extractive_summary, 'ctext': original_text})"
   ]
  },
  {
   "cell_type": "code",
   "execution_count": 12,
   "metadata": {},
   "outputs": [],
   "source": [
    "import pandas as pd\n"
   ]
  },
  {
   "cell_type": "code",
   "execution_count": 18,
   "metadata": {},
   "outputs": [
    {
     "name": "stdout",
     "output_type": "stream",
     "text": [
      "     meeting                                               text  \\\n",
      "0  ES2002a.A                                                NaN   \n",
      "1  ES2002a.A                                                NaN   \n",
      "2  ES2002a.A                                                NaN   \n",
      "3  ES2002a.A                                                NaN   \n",
      "4  ES2002a.A  and I kind of like whales .  They come in and ...   \n",
      "\n",
      "                                               ctext  \n",
      "0  Hi , I'm David and I'm supposed to be an indus...  \n",
      "1  Did you get the same thing ?    Cool .  There'...  \n",
      "2   Okay .  Can't draw . Um . Yeah . Um , well an...  \n",
      "3  Um .  Yeah .  Um , well anyway ,  I don't know...  \n",
      "4  so um fish was a natural choice .  Um , yeah ,...  \n"
     ]
    }
   ],
   "source": [
    "df = pd.read_csv(\"../data/AMI_manual/T5_csv/ami_ori_extrac.csv\")\n",
    "print(df.head(5))"
   ]
  },
  {
   "cell_type": "code",
   "execution_count": 19,
   "metadata": {},
   "outputs": [
    {
     "data": {
      "text/plain": [
       "24629"
      ]
     },
     "execution_count": 19,
     "metadata": {},
     "output_type": "execute_result"
    }
   ],
   "source": [
    "len(df)"
   ]
  },
  {
   "cell_type": "code",
   "execution_count": 22,
   "metadata": {},
   "outputs": [
    {
     "data": {
      "text/plain": [
       "\"Wait for the marketing director actually ,  so .  Anyways . Uh . See ,  shall we wait ?  I'm not sure if he's late or delayed or whatever ,  so I'm gonna start soon ,  we have now don't have much time anyway . There you are , okay . Uh no problem . We're about to start , so have a seat . Okay , welcome again . Today , functional design phase . I'll take you over the minutes of last last meeting . Okay , that was just to get to know each other , have a little thoughts on what your vision is and on this project , so I put the minutes on the I made on the on the p the the project share , so if you wanna review them , they're there . I will do so after every meeting , so if you have some information you wanna take back you can find it there . Anyways , um today three presentations , from every one of you . Um after that I got some new project requirements from project board , so we're gonna go af go after over this later . But I wanna start with uh stuff you did first , so we can see what everybody came up with . And after that we can have the new requirements and share some thoughts , so . Who would like wanna go first ? Take it . Anyway , let's see what you have . Uh it's still a bit open . You should close it on your own notebook , I guess . Yeah . So there ? Okay . If I can cut in , is it people or men ? Is it people , okay . 'Cause I thought it was only men , so 'Kay . So we have to s we have to do something about that . Okay . Okay , just talk ahead . Mm-hmm . Mm-hmm . Okay , that's okay . That's a little weird . Okay , we can we can hide those under a menu or something , okay . That's like a button on your T_V_ ? Remote , okay . Okay . We wanna have a little preview on the remote control . Preview what's on the channel . Okay . That sounds too It's possible , but uh I think it's expensive , but do continue . Okay , you don't set it yourself , it just remembers the channel that you are on most , for example . You want the you want it to be programmed , for example y programmed f or you want it to recognise your favourite channel ? Let's see , you you spend twenty minutes each day on that channel , so it recognises your favourite channel . Okay , so it's it it does it recognise itself , you don't have to set it Okay . Okay . I see . Okay . No problem , it's it's okay , that's Yeah , go ahead . That seems very good . Mm-hmm . Okay , so have it more make it more durable actually . Okay . Okay , so the buttons should be Mm-hmm . Yeah . Wow . The s Yeah . Make it make them bigger . Even more durable uh . Okay . Yeah , it's true . Yeah , that's clear . No , of course uh Yeah . I must say that it Hmm . That was it . Okay , that was good . So we agree on the the part that we need to get something on the on the remote to find it somewhere and increase it the durability of of the thing , so The other aspects , we'll just see how what you came up with and what's possible for that budget . Okay . Mm-hmm . Mm-hmm . Yeah . Of course , hmm . You mean integrate them all into the circuit board . Okay . Yeah , okay . So you have Mm-hmm . Okay . Okay . That was it ? I'll get back to my thing then . Uh Okay , back this up to the screen . So I got some new information on the project specifications are changing a little . Like you said uh teletext is not not very popular anymore because the uh the internet , nowadays people don't use the teletext anymore or hardly , so it can either Well , I don't think we should remove the button , because there are always people who are using it . But I don't think it should be very it should be one of the big buttons for example . Just put it somewhere or under second option or whatever . It's not important anymore . Um we're targeting young people now , because our um This is a new product and with this new product we want to appeal to younger people , which are um the younger people were defined under forty . I so I think it's that's also good with the fashion and everything , so yeah . They want to pay for it , people are willing to spend money actually to buy a um remote that they like . If they like the way it looks , the way it functions , so they're actually gonna spend uh spend money on it . Yeah . see how far we can go with it anyway , so And one thing that should be important is that the corporate l colour and slogan are recognisable , which is apparently black and yellow , but I'm not sure if we I think we should keep the the logo in mind , because with colours you can uh have a lot of uh fashionable colours and everything on it , which suits everybody's taste . So With that concept I started thinking , so why not just steal Nokia's idea and just make changeable covers for your I mean those cost hardly anything I think , and people could even spend extra money on buying a cover and so have an entire new remote control that they like to see . Or we can sh for example we can make a different a basic design . And sell the covers separately , for example . That's just a little marketing idea that could be applied , so you can p it appeals to really everyone . So you don't have to I think you don't have to make entire remote controls . We make a basic one and manufacture this cover separately . So that was that was my idea on what we could do to appeal this product to everyone . So just I'm not sure if you came up with anything in the meantime , after making a presentation . Would you like to share ? Okay . Oh yeah . I think we should lose the L_C_D_ screen , like you said . I think for example it's it's huge I think the L_C_D_ is huge , it consumes batteries like hell . I think it takes up a lot of a lot of power . It costs a lot , I think . What we could do , what could be possible , is maybe not an L_C_D_ screen but with a preview , but y I'm not sure if it's even possible . For example , a little T_V_ guide . Like you have a little just just a text only , not colour , just a little text thing so you can use your remote as a T_V_ guide . I'm not sure it's even possible , but maybe okay , make it Yeah , find a little compromise in that , but What did I write down ? I think the p yeah , the beep is a very simple thing to imple implement , just make a button on your T_V_ and just hit the button , it beeps somewhere . I think it's easy to implement , we should go for that . Uh speech recognition . I thin Yeah , I mean where else should you put it ? Yeah , but how are you gonna use that if your I mean if your remote control is lost , how are you gonna press where are you gonna press the button ? A slap-on sticker . Oh , you mean as like a separate thing you can attach to your T_V_ . Yeah , that could be possible . A little little box you can attach to your T_V_ is fine then , okay . I think it's universal . I think we should go for universal , because apparently we're a separate company making separate c remote controls to sell to a lot of diverse people . I think universal remote control should be possible . Yeah , I think we're targeting everyone , so remote Okay , universal is good . Speech recognition , I think it's very hard , because we're selling across multiple countries . So I think implementing speech recognition is such a small um apparatus , it's very hard to do . Yeah , but I don't see Arabian people speaking one , two uh whatever . It's Yeah . It's not a mature technology , I think it takes a lot of memory and everything in in a remote control , so I don't think it should be implemented in a remote control yet uh . What else do we have ? Um well you should you should look into the in into the materials that are real durable . So the the the symbols won't fade , maybe a little harder plastic or especially li we don't maybe we don't have have to do all the buttons , but especially the ones that are um the popular buttons , so those always fade first . Mm the thing is the most important things that we have now . Let's see . For example ? Well , we're not we're not targeting older people , we should remember that . Everything we target is under forty , so . You assume that that they read correctly and I think they're The most important thing about young people is that they're really sensitive to to trends that are passing through the world , so No , of course . No , I think it's just something you you put over them , because Yeah we c Yeah , you ca Well , tha that's not a that's not a bad that's not even it's not even a bad idea . I mean , for example , if you're if you're into the durability issue you could For example , if your buttons are faded , after I mean if you make a durable remote , they are faded , you can just buy a new cover . Uh I'm not sure it's it's hard to make . So it's a good and a bad idea . Mm-hmm . Yeah , I know , it's just just a one one piece of rubber for example , okay . Yeah , that's what I something I have to look into . Either either change both the buttons and and the cover or just the cover , I'm not sure which which is easier , so Um anyway , yeah , this is what we're gonna do afterwards , just lunch break and have more individual work after that , so let's see what we let's see we So you have to come up with a components concept , yeah . I want some you should do some trend-watching , because even if we're if we're gonna do those covers and everything , what people really want , that's what we need to know in this phase , because that's gonna be the essential final design that we're gonna come up with . Um Yeah , I think user interface is fairly obvious . I mean it should be very intuitive , s Yeah , it should speak for itself . Uh for example I bought a remote control last week with a new T_V_ , it was it l it's like all buttons and you have no idea what it does at first , and I'm total T_V_ new , anyway . So I think it should be have less or l very little buttons and maybe a second second level menu for the advanced things . Or maybe just stick 'em under a menu , like you said the um the sound options and the surround and whatever , they're more complicated , just stick 'em under one menu and uh give it a just put it in in s in a software piece , you can menu and you can uh select everything you want to to set on your T_V_ . That is true . No , that's true . Yeah , that's true . I'm not sure if it's impossible , but uh there's a chance it's not , so . A double-sided remote control ? I don't think that's useful . Yeah , but then you're gonna have a lot of wasted buttons . For example you have a Sony T_V_ and the half of the buttons won't function if you have a for a Sony that won't for a Philips T_V_ . I don't think we should Yeah , for exam I'm not s yeah , for ex you have to make it a little decision between the part if you want a universal remote control that it should do what people usually do with their T_V_s , not not the very complicated settings that you can usually do that with uh either a old old remote control if they really hate that thing , but you can't you cannot take into consideration all the different brands of T_V_s . I think there's I think there is a standard for example between uh because usually the the menu is the menu button is is usable between different brands . Especially the big ones , the big brands , so . 'Cause everybody I have a universal remote control and it can use the menu button , so I think I'm not sure , if you can put some research into that , if it's possible . Uh I think just a b and the navigation is very basic , it's usually the same thing . Yeah . Yeah , that's true . I think so uh we need to put some research into that if if we can open the menu , I think it's possible , just the way how to . Yeah , then then you could do everything I suppose , because usually the T_V_s have tha that inside in this other little piece of software , so it's okay . Mm-hmm . Yeah . Yeah I think it should be a little distinct from everything else , because it's either it's both mayb maybe the shape can be a little different . Maybe it's a little more curves or whatever . So um Yeah , this . Not sure what because we have forty minutes , I'm not sure how much time we have left for the meeting anyway , so . Yeah , but it wasn't me , it was him closing something . So anyway , yeah , we could do some i do some work now on on the design for example . I mean what do you want , do you want , but Yeah , may maybe something like this . But though smooth inside . So you have the transmitter here for example . Let's see that you what would be handy . I think that the the buttons should be the channel buttons should be uh on their own . Let's see one , two God damn it . Yeah , okay . Another one here . Let's see what I think this should these are always on top of the of the control , so they should be here . Think it's like this . Withi within the Yeah , just take it . Do you take triangles or Um I think it should be I think it Maybe we should make 'em bigger or whatever . Yeah . Yeah , in the middle . It's it's usually uh there , but Mm . Yeah , but for example if it's lost in your armchair , we'll not see the flash . And flash takes up a lot of batteries again . Yeah . Yeah , I thought about for deaf people for example , so . We could do that . Uh let's see . Oh yeah , it's true . Um that thing should be central . You shouldn't be you uh shouldn't press it by accident , but it shouldn't be stacked away somewhere . Yeah . Yeah , like that's gonna work . Yeah , I thought maybe we should move the buttons down and put it here for example to From top to bottom . Yeah , that's true , you should I think the bu the power button should be on top , 'cause it's the first thing you do , turn it on . So power button on top . Um Mute . Do we hardly I think it should be at the bottom somewhere . Mute . Turn the sound off . I don't think it's important , but I think it I think it should be you c you could put it somewhere here . No , because it Yeah , people are accustomed to that , it's Can I have that ? That's j Take this out and here see Uh are we gonna take triangles anyway ? I'm drawing triangles , but Yeah , it's maybe a bigger lesser than thing . So anyway , I think this is should be the channels and or sh Here , okay . Okay , should we chan okay , this two , channel up and down . Well , for that is it's on one part it's um it's a good thing to recharge it Maybe we should what what could be possible is one with rechargeable batteries for example . You have just put Penlite batteries that are rechargeable , because it's an it's it's it's very annoying . I'm not sure y I'm not sure it's if it's expensive , but just take a look at it , because it might be a very good idea . Because if it's it's uh useful to have it rechargeable , but at the same time , if you don't want recha if you forgot to recharge it and you wanna watch T_V_ now , you wanna be able to put different batteries in it , use it now and not in half an hour . How about I think I have a nice idea . Not exactly uh . I think it's uh it's a pretty good idea to have uh like sort of a maybe a base station that you put on the T_V_ . Could be flat , you could insert your uh remote into it . I'm not sure . A what ? Well , we were talking about the fact that we wanted to insert either a beep or a flash into the thing with a little separate signal or So you could put that on a T_V_ for example . It could be very flat , could be very small . It's a very small Yeah , I'm drawing it big now , but So you can put your remote on flat for example . And at the backside of remote just just just a little hole for example um you just put it down , it recharges for example . I don't think it's very expensive . I'm not sure if it costs a lot , that that's what he r That's that you that's what you buy yourself . It's just an idea , we have to find out if it's possible . Do they want but they want a rechargeable one ? I'm not sure , you should find out if it's if rechargeable is important . Yeah . They want to pay for comfort , we just assu we we could either make a separate station which just sends a signal to the remote control to either beep or flash to find it , um and Yeah , we have to either that or make it integrated with a with a docking station . I think it would be good actually . I like the beep part anyway . So um let's go through the Covers is covers is good . Yeah , it's Oh we can save this . Up and saved . We even saved the ant . Um Okay . So what we have is you have I think you have to do a lot of work on if it's possible for the cost . Maybe yeah , or maybe you can find out i what people are willing to pay . We are going for twenty five Euros sales price , but just try to find out what they're willing to pay for it , because if they're willing to pay more , we could lose a little profit and maybe attract more customers , uh we just have to see what it looks like . Yeah , if you have some financial information that that'd be nice , so . Hmm . No , it wasn't wasn't allo it was possible , not allowed , so . So that's um why I'm not sure that you're allowed to share documents on the on the draft . I don't care . I haven't heard any complaints yet , so . Um Yeah , the oh , they inc uh they include the new one . Or just for you . Oh no , I didn't have that . All it tells just let's make make a new tick the new one . Um other side . Yeah , let's increase it a little because Yeah , draw us up some some designs of of possible just keep in mind that the important buttons should be on top and either big , so the more less important More or less . Just play a little with this , put l shift a little up or down and we'll see what looks best . Or just po post your designs from time to time on the product share . Yeah , so we don't want we want very little buttons , just the buttons you use a lot . Well what we had function that what people do , so . People change channels , people they change the volume and they they change channel , they turn T_V_ off and on , for example . That's the basic fu that's what you do I'm not sure who present that again , but those are the basic function that people use it for , so those should be very well represented . That's true , but that's what we stick under the menu button . Everything is you say in every T_V_ that's configured under the menu . Yeah , but But I think most modern T_V_s have it in their menu . Uh we'll we'll see what we can come up with . Under forty . Yeah ? Mm-hmm . Yeah yeah . The want to pay for Oh . Uh shall we ? Younger , age sixteen and forty five . That's all here , here it says Yeah , age sixteen forty fi interest in main features more critical . Okay , so we're not focusing on this . Um All the interest in features , not really the L_C_ oh here . Would you pay for uh speech recognition in a remote control . Hmm , okay ? Speech recognition is quite Yeah , just look at the possibilities then , because if apparently it's what people want , it's supposed to be a luxurious remote , maybe it's not even that expensive . Or find a compromise , maybe just a black and white or for some extra information on it , on your programmes . Me too . I mean we all do . Right . I think it's something we should put into consideration . Apparently it's what people want , so . We should see if what it costs , if it's possible . Yeah . Yeah , we should do a little thing about design , because it looks boring really to me . Even if you put it even if you put a different cover on it , it looks still looks boring , so . I have no clue . I just drew something what which would fit into your hand easily . I think it's a very Sorry ? Yeah ? Okay . Mm-hmm . Yeah , but you have to j just keep in mind it shouldn't be too heavy . I mean we can stick it in in there , I think . Huh even if in the worst case we can even Could you give me the pen back ? So let's say that people would want an L_C_D_ thing . Let's take take the basic design again , what we oh , crap uh came up with . I'll just make it a little bigger now . So a transmitter here . Anyway . We could let's say we have an L_C_D_ screen , people want an L_C_D_ screen . So then we should probably put it here . It doesn't have to be really big , but just just have to be has to be there . Think it's a good place , people don't No ? It's not that uh it's not the most important function , it's just an extra thing , it just you press the buttons on top , because your finger is on top . How can you use an L_C_D_ screen ? Yeah , but why I I'm not sure . Uh if you t if you press a button , you can see it , ri I'm not sure wha I'm trying to imagine myself what it would look like . You would prefer it n Okay . So we have three people saying it should be on top . Okay , but then you would would s have to stack away your buttons somewhere else . Anyways . Uh this looks a little About the L_C_D_s thing . Well if it if it's if it's possible wi if it's not too expensive , we should include it , because it's it's cool . Uh we have green now uh Or maybe we should m we could uh draw draw something a bit that has it on on on the bottom . Maybe in a circle for example , like we like in this example . I think this is not good , but for we could make circular buttons for example . For up and down , ma make it a circle on it , because it I think the channel button should be in the centre . Channel button should be st stick together , for example here in this section . Because it's uh We're not sure about the size anyway , just a general design . You can make it as big as you want . For example if you take uh No , let's see . For example just Yeah . I don't think if we if we even use an L_C_D_ screen , we need to , definitely . Yeah , but we have to see what the si what the size is . The L_C_D_ doesn't have to nee doesn't need to be very big . Mm let's see . Finish meeting now . Okay , we will . So either We either we have to decide what what people want . Either this one , this this could be the luxurious one . So we have channel buttons here . I'm just drawing something uh . Uh I think this would this would look cool . You could have it for example small buttons here for some extra functions , so if your basic function's here , we should like we decided before , programmes up and down , and volume here . Well you can just no , I'm not sure if we can do that , but we could put a microphone in here for example . Just to do research into both , w what it costs and what it takes for space . But let's cut the meeting for now yes . Yeah , let's think of a name , okay . Uh okay . Okay , at anyways , the the minutes will be on the on the web shortly , so there we go uh . Yeah , to all .  \""
      ]
     },
     "execution_count": 22,
     "metadata": {},
     "output_type": "execute_result"
    }
   ],
   "source": [
    "idx = df['ctext'].map(len).idxmax()\n",
    "df.iloc[idx, :]['ctext']"
   ]
  },
  {
   "cell_type": "code",
   "execution_count": 21,
   "metadata": {},
   "outputs": [
    {
     "data": {
      "text/plain": [
       "23610    22583\n",
       "23611      230\n",
       "23612    22186\n",
       "23613      233\n",
       "23614      237\n",
       "         ...  \n",
       "23768      796\n",
       "23769      234\n",
       "23770      379\n",
       "23771      212\n",
       "23772      165\n",
       "Name: ctext, Length: 163, dtype: int64"
      ]
     },
     "execution_count": 21,
     "metadata": {},
     "output_type": "execute_result"
    }
   ],
   "source": [
    "df[df['meeting']=='TS3012b.A']['ctext'].map(len)"
   ]
  },
  {
   "cell_type": "code",
   "execution_count": 19,
   "metadata": {},
   "outputs": [],
   "source": [
    "# # go through all meetings and write out dialogues to files\n",
    "# diags=[]\n",
    "# summary =[]\n",
    "# all_diags =[]\n",
    "# for meeting in meeting_dialogues.keys():\n",
    "#     with open(\"../data/AMI_manual/processing/\"+meeting+\"_summaries.txt\", \"w\") as f:\n",
    "#         for _, _, _, diag, summ_flag in extract_dialogues(meeting):\n",
    "#             diags.append(diag)\n",
    "#             f.write(diag)\n",
    "#             f.write(\"|\")\n",
    "#             f.write(str(int(summ_flag)))\n",
    "#             f.write(\"\\n\")\n",
    "#     with open(\"../data/AMI_manual/T5_ready/\"+meeting+\"_summaries.txt\", \"w\") as f:\n",
    "#         for _, _, _, diag, summ_flag in extract_dialogues(meeting):\n",
    "#             if summ_flag == 1:\n",
    "#                 summary.append(diag)\n",
    "#                 f.write(diag)\n",
    "#                 f.write(\" \")\n",
    "#     with open(\"../data/AMI_manual/T5_ready/\"+meeting+\"_dialogues.txt\", \"w\") as f:\n",
    "#         for _, _, _, diag, summ_flag in extract_dialogues(meeting):\n",
    "#             all_diags.append(diag)\n",
    "#             f.write(diag)\n",
    "#             f.write(\" \")"
   ]
  }
 ],
 "metadata": {
  "kernelspec": {
   "display_name": "Python 3",
   "language": "python",
   "name": "python3"
  },
  "language_info": {
   "codemirror_mode": {
    "name": "ipython",
    "version": 3
   },
   "file_extension": ".py",
   "mimetype": "text/x-python",
   "name": "python",
   "nbconvert_exporter": "python",
   "pygments_lexer": "ipython3",
   "version": "3.8.3"
  }
 },
 "nbformat": 4,
 "nbformat_minor": 4
}
