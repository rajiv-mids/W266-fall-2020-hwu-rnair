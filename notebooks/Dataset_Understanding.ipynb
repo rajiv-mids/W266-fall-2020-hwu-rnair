{
 "cells": [
  {
   "cell_type": "code",
   "execution_count": 1,
   "metadata": {},
   "outputs": [],
   "source": [
    "import os, os.path\n",
    "import glob\n",
    "import fnmatch\n",
    "import pandas as pd\n"
   ]
  },
  {
   "cell_type": "code",
   "execution_count": 2,
   "metadata": {},
   "outputs": [],
   "source": [
    "\n",
    "ROOT_DIR_ICSI = \"/Users/haileywu/Desktop/W266_project/data/ICSI_plus_NXT\"\n",
    "ROOT_DIR_AMI = \"/Users/haileywu/Desktop/W266_project/data/AMI_manual\""
   ]
  },
  {
   "cell_type": "code",
   "execution_count": 3,
   "metadata": {},
   "outputs": [],
   "source": [
    "PATH_ICSI_DEV = ROOT_DIR_ICSI + '/Full_doc/Dev/'\n",
    "PATH_ICSI_TEST = ROOT_DIR_ICSI + '/Full_doc/Test/'\n",
    "PATH_ICSI_TRAIN = ROOT_DIR_ICSI + '/Full_doc/Train/'\n",
    "\n",
    "PATH_AMI_DEV = ROOT_DIR_AMI + '/Full_doc/Dev/'\n",
    "PATH_AMI_TEST = ROOT_DIR_AMI + '/Full_doc/Test/'\n",
    "PATH_AMI_TRAIN = ROOT_DIR_AMI + '/Full_doc/Train/'"
   ]
  },
  {
   "cell_type": "code",
   "execution_count": 6,
   "metadata": {},
   "outputs": [],
   "source": [
    "ICSItext = {'Dev_Doc':len(glob.glob1(PATH_ICSI_DEV,\"*_da.txt\")),\n",
    "            'Test_Doc':len(glob.glob1(PATH_ICSI_TEST,\"*_da.txt\")),\n",
    "            'Train_Doc':len(glob.glob1(PATH_ICSI_TRAIN,\"*_da.txt\"))}\n",
    "AMItext = {'Dev_Doc':len(glob.glob1(PATH_AMI_DEV,\"*_da.txt\")),\n",
    "            'Test_Doc':len(glob.glob1(PATH_AMI_TEST,\"*_da.txt\")),\n",
    "            'Train_Doc':len(glob.glob1(PATH_AMI_TRAIN,\"*_da.txt\"))}"
   ]
  },
  {
   "cell_type": "code",
   "execution_count": 5,
   "metadata": {},
   "outputs": [
    {
     "data": {
      "text/plain": [
       "{'Dev_Doc': 666, 'Test_Doc': 281, 'Train_Doc': 908}"
      ]
     },
     "execution_count": 5,
     "metadata": {},
     "output_type": "execute_result"
    }
   ],
   "source": [
    "df = pd.read_csv(\"../data/AMI_manual/T5_csv/AMI_512_train_new.csv\")\n",
    "Train_512 = len(df)\n",
    "df = pd.read_csv(\"../data/AMI_manual/T5_csv/AMI_512_dev_new.csv\")\n",
    "Dev_512 = len(df)\n",
    "df = pd.read_csv(\"../data/AMI_manual/T5_csv/AMI_512_test_new.csv\")\n",
    "Test_512 = len(df)\n",
    "AMI512 = {'Dev_Doc':Dev_512,\n",
    "            'Test_Doc':Test_512,\n",
    "            'Train_Doc':Train_512}\n",
    "AMI512"
   ]
  },
  {
   "cell_type": "code",
   "execution_count": 7,
   "metadata": {},
   "outputs": [
    {
     "data": {
      "text/plain": [
       "{'Dev_Doc': 744, 'Test_Doc': 165, 'Train_Doc': 1231}"
      ]
     },
     "execution_count": 7,
     "metadata": {},
     "output_type": "execute_result"
    }
   ],
   "source": [
    "df = pd.read_csv(\"../data/ICSI_plus_NXT/T5_csv/ICSI_512_train.csv\")\n",
    "Train_512 = len(df)\n",
    "df = pd.read_csv(\"../data/ICSI_plus_NXT/T5_csv/ICSI_512_dev.csv\")\n",
    "Dev_512 = len(df)\n",
    "df = pd.read_csv(\"../data/ICSI_plus_NXT/T5_csv/ICSI_512_test.csv\")\n",
    "Test_512 = len(df)\n",
    "ICSI512 = {'Dev_Doc':Dev_512,\n",
    "            'Test_Doc':Test_512,\n",
    "            'Train_Doc':Train_512}\n",
    "ICSI512"
   ]
  },
  {
   "cell_type": "code",
   "execution_count": 7,
   "metadata": {},
   "outputs": [],
   "source": [
    "df = pd.read_csv(\"../data/AMI_manual/T5_csv/AMI_1024_train_new.csv\")\n",
    "Train_1024 = len(df)\n",
    "df = pd.read_csv(\"../data/AMI_manual/T5_csv/AMI_1024_dev_new.csv\")\n",
    "Dev_1024 = len(df)\n",
    "df = pd.read_csv(\"../data/AMI_manual/T5_csv/AMI_1024_test_new.csv\")\n",
    "Test_1024 = len(df)\n",
    "AMI1024 = {'Dev_Doc':Dev_1024,\n",
    "            'Test_Doc':Test_1024,\n",
    "            'Train_Doc':Train_1024}"
   ]
  },
  {
   "cell_type": "code",
   "execution_count": 8,
   "metadata": {},
   "outputs": [],
   "source": [
    "df = pd.read_csv(\"../data/AMI_manual/data_cleansing/AMI_1024_train_cleaned.csv\")\n",
    "Train_1024cleaned = len(df)\n",
    "df = pd.read_csv(\"../data/AMI_manual/data_cleansing/AMI_1024_dev_cleaned.csv\")\n",
    "Dev_1024cleaned = len(df)\n",
    "df = pd.read_csv(\"../data/AMI_manual/data_cleansing/AMI_1024_test_cleaned.csv\")\n",
    "Test_1024cleaned = len(df)\n",
    "AMI1024cleaned = {'Dev_Doc':Dev_1024cleaned,\n",
    "            'Test_Doc':Test_1024cleaned,\n",
    "            'Train_Doc':Train_1024cleaned}"
   ]
  },
  {
   "cell_type": "code",
   "execution_count": 29,
   "metadata": {},
   "outputs": [],
   "source": [
    "df = pd.read_csv(\"../data/AMI_manual/data_cleansing/AMI_1024_train_cleaned_eax.csv\")\n",
    "Train_1024cleaned_eax = len(df)\n",
    "df = pd.read_csv(\"../data/AMI_manual/data_cleansing/AMI_1024_dev_cleaned_eax.csv\")\n",
    "Dev_1024cleaned_eax = len(df)\n",
    "df = pd.read_csv(\"../data/AMI_manual/data_cleansing/AMI_1024_test_cleaned_eax.csv\")\n",
    "Test_1024cleaned_eax = len(df)\n",
    "AMI1024cleaned_eax = {'Dev_Doc':Dev_1024cleaned_eax,\n",
    "            'Test_Doc':Test_1024cleaned_eax,\n",
    "            'Train_Doc':Train_1024cleaned_eax}"
   ]
  },
  {
   "cell_type": "code",
   "execution_count": 9,
   "metadata": {},
   "outputs": [],
   "source": [
    "df = pd.read_csv(\"../data/ICSI_plus_NXT/T5_csv/ICSI_1024_train.csv\")\n",
    "Train_1024 = len(df)\n",
    "df = pd.read_csv(\"../data/ICSI_plus_NXT/T5_csv/ICSI_1024_dev.csv\")\n",
    "Dev_1024 = len(df)\n",
    "df = pd.read_csv(\"../data/ICSI_plus_NXT/T5_csv/ICSI_1024_test.csv\")\n",
    "Test_1024 = len(df)\n",
    "ICSI1024 = {'Dev_Doc':Dev_1024,\n",
    "            'Test_Doc':Test_1024,\n",
    "            'Train_Doc':Train_1024}"
   ]
  },
  {
   "cell_type": "code",
   "execution_count": 10,
   "metadata": {},
   "outputs": [],
   "source": [
    "df = pd.read_csv(\"../data/ICSI_plus_NXT/data_cleansing/ICSI_1024_train_cleaned.csv\")\n",
    "Train_1024cleaned = len(df)\n",
    "df = pd.read_csv(\"../data/ICSI_plus_NXT/data_cleansing/ICSI_1024_dev_cleaned.csv\")\n",
    "Dev_1024cleaned = len(df)\n",
    "df = pd.read_csv(\"../data/ICSI_plus_NXT/data_cleansing/ICSI_1024_test_cleaned.csv\")\n",
    "Test_1024cleaned = len(df)\n",
    "ICSI1024cleaned = {'Dev_Doc':Dev_1024cleaned,\n",
    "            'Test_Doc':Test_1024cleaned,\n",
    "            'Train_Doc':Train_1024cleaned}"
   ]
  },
  {
   "cell_type": "code",
   "execution_count": 28,
   "metadata": {},
   "outputs": [],
   "source": [
    "df = pd.read_csv(\"../data/ICSI_plus_NXT/data_cleansing/ICSI_1024_train_cleaned_eax.csv\")\n",
    "Train_1024cleaned_eax = len(df)\n",
    "df = pd.read_csv(\"../data/ICSI_plus_NXT/data_cleansing/ICSI_1024_dev_cleaned_eax.csv\")\n",
    "Dev_1024cleaned_eax = len(df)\n",
    "df = pd.read_csv(\"../data/ICSI_plus_NXT/data_cleansing/ICSI_1024_test_cleaned_eax.csv\")\n",
    "Test_1024cleaned_eax = len(df)\n",
    "ICSI1024cleaned_eax = {'Dev_Doc':Dev_1024cleaned_eax,\n",
    "            'Test_Doc':Test_1024cleaned_eax,\n",
    "            'Train_Doc':Train_1024cleaned_eax}"
   ]
  },
  {
   "cell_type": "code",
   "execution_count": 11,
   "metadata": {},
   "outputs": [],
   "source": [
    "def Average(lst): \n",
    "    return sum(lst) / len(lst) "
   ]
  },
  {
   "cell_type": "code",
   "execution_count": 12,
   "metadata": {},
   "outputs": [],
   "source": [
    "ICSItext_wc_Dev = []\n",
    "ICSItext_wc_TRAIN = []\n",
    "ICSItext_wc_TEST = []\n",
    "for file in sorted(glob.glob(PATH_ICSI_DEV+\"*_da.txt\")):\n",
    "    f = open(file, \"r\")\n",
    "    text = f.read()\n",
    "    words = text.split()\n",
    "    ICSItext_wc_Dev.append(len(words))\n",
    "for file in sorted(glob.glob(PATH_ICSI_TRAIN+\"*_da.txt\")):\n",
    "    f = open(file, \"r\")\n",
    "    text = f.read()\n",
    "    words = text.split()\n",
    "    ICSItext_wc_TRAIN.append(len(words))\n",
    "for file in sorted(glob.glob(PATH_ICSI_TEST+\"*_da.txt\")):\n",
    "    f = open(file, \"r\")\n",
    "    text = f.read()\n",
    "    words = text.split()\n",
    "    ICSItext_wc_TEST.append(len(words))"
   ]
  },
  {
   "cell_type": "code",
   "execution_count": 13,
   "metadata": {},
   "outputs": [
    {
     "data": {
      "text/plain": [
       "{'Dev': 2297.837837837838,\n",
       " 'Test': 1848.5641025641025,\n",
       " 'Train': 1972.5935251798562}"
      ]
     },
     "execution_count": 13,
     "metadata": {},
     "output_type": "execute_result"
    }
   ],
   "source": [
    "ICSItext_wc = {'Dev': Average(ICSItext_wc_Dev),\n",
    "              'Test':Average(ICSItext_wc_TEST),\n",
    "              'Train':Average(ICSItext_wc_TRAIN)}\n",
    "ICSItext_wc"
   ]
  },
  {
   "cell_type": "code",
   "execution_count": 14,
   "metadata": {},
   "outputs": [
    {
     "data": {
      "text/plain": [
       "{'Dev': 1794.9932432432433,\n",
       " 'Test': 1441.8974358974358,\n",
       " 'Train': 1524.3489208633093}"
      ]
     },
     "execution_count": 14,
     "metadata": {},
     "output_type": "execute_result"
    }
   ],
   "source": [
    "ICSItextc_wc_Dev = []\n",
    "ICSItextc_wc_TRAIN = []\n",
    "ICSItextc_wc_TEST = []\n",
    "for file in sorted(glob.glob(PATH_ICSI_DEV+\"*_dac.txt\")):\n",
    "    f = open(file, \"r\")\n",
    "    text = f.read()\n",
    "    words = text.split()\n",
    "    ICSItextc_wc_Dev.append(len(words))\n",
    "for file in sorted(glob.glob(PATH_ICSI_TRAIN+\"*_dac.txt\")):\n",
    "    f = open(file, \"r\")\n",
    "    text = f.read()\n",
    "    words = text.split()\n",
    "    ICSItextc_wc_TRAIN.append(len(words))\n",
    "for file in sorted(glob.glob(PATH_ICSI_TEST+\"*_dac.txt\")):\n",
    "    f = open(file, \"r\")\n",
    "    text = f.read()\n",
    "    words = text.split()\n",
    "    ICSItextc_wc_TEST.append(len(words))\n",
    "    \n",
    "ICSItextc_wc = {'Dev': Average(ICSItextc_wc_Dev),\n",
    "              'Test':Average(ICSItextc_wc_TEST),\n",
    "              'Train':Average(ICSItextc_wc_TRAIN)}\n",
    "ICSItextc_wc"
   ]
  },
  {
   "cell_type": "code",
   "execution_count": 15,
   "metadata": {},
   "outputs": [],
   "source": [
    "ICSIes_wc_Dev = []\n",
    "ICSIes_wc_TRAIN = []\n",
    "ICSIes_wc_TEST = []\n",
    "for file in sorted(glob.glob(PATH_ICSI_DEV+\"*_es.txt\")):\n",
    "    f = open(file, \"r\")\n",
    "    text = f.read()\n",
    "    words = text.split()\n",
    "    ICSIes_wc_Dev.append(len(words))\n",
    "for file in sorted(glob.glob(PATH_ICSI_TRAIN+\"*_es.txt\")):\n",
    "    f = open(file, \"r\")\n",
    "    text = f.read()\n",
    "    words = text.split()\n",
    "    ICSIes_wc_TRAIN.append(len(words))\n",
    "for file in sorted(glob.glob(PATH_ICSI_TEST+\"*_es.txt\")):\n",
    "    f = open(file, \"r\")\n",
    "    text = f.read()\n",
    "    words = text.split()\n",
    "    ICSIes_wc_TEST.append(len(words))"
   ]
  },
  {
   "cell_type": "code",
   "execution_count": 16,
   "metadata": {},
   "outputs": [
    {
     "data": {
      "text/plain": [
       "{'Dev': 402.47972972972974,\n",
       " 'Test': 280.3333333333333,\n",
       " 'Train': 225.47841726618705}"
      ]
     },
     "execution_count": 16,
     "metadata": {},
     "output_type": "execute_result"
    }
   ],
   "source": [
    "ICSIes_wc = {'Dev': Average(ICSIes_wc_Dev),\n",
    "              'Test':Average(ICSIes_wc_TEST),\n",
    "              'Train':Average(ICSIes_wc_TRAIN)}\n",
    "ICSIes_wc"
   ]
  },
  {
   "cell_type": "code",
   "execution_count": 17,
   "metadata": {},
   "outputs": [
    {
     "data": {
      "text/plain": [
       "{'Dev': 342.93918918918916,\n",
       " 'Test': 238.56410256410257,\n",
       " 'Train': 189.37410071942446}"
      ]
     },
     "execution_count": 17,
     "metadata": {},
     "output_type": "execute_result"
    }
   ],
   "source": [
    "ICSIesc_wc_Dev = []\n",
    "ICSIesc_wc_TRAIN = []\n",
    "ICSIesc_wc_TEST = []\n",
    "for file in sorted(glob.glob(PATH_ICSI_DEV+\"*_esc.txt\")):\n",
    "    f = open(file, \"r\")\n",
    "    text = f.read()\n",
    "    words = text.split()\n",
    "    ICSIesc_wc_Dev.append(len(words))\n",
    "for file in sorted(glob.glob(PATH_ICSI_TRAIN+\"*_esc.txt\")):\n",
    "    f = open(file, \"r\")\n",
    "    text = f.read()\n",
    "    words = text.split()\n",
    "    ICSIesc_wc_TRAIN.append(len(words))\n",
    "for file in sorted(glob.glob(PATH_ICSI_TEST+\"*_esc.txt\")):\n",
    "    f = open(file, \"r\")\n",
    "    text = f.read()\n",
    "    words = text.split()\n",
    "    ICSIesc_wc_TEST.append(len(words))\n",
    "    \n",
    "ICSIesc_wc = {'Dev': Average(ICSIesc_wc_Dev),\n",
    "              'Test':Average(ICSIesc_wc_TEST),\n",
    "              'Train':Average(ICSIesc_wc_TRAIN)}\n",
    "ICSIesc_wc"
   ]
  },
  {
   "cell_type": "code",
   "execution_count": 18,
   "metadata": {},
   "outputs": [],
   "source": [
    "ICSIas_wc_Dev = []\n",
    "ICSIas_wc_TRAIN = []\n",
    "ICSIas_wc_TEST = []\n",
    "for file in sorted(glob.glob(PATH_ICSI_DEV+\"*_as.txt\")):\n",
    "    f = open(file, \"r\")\n",
    "    text = f.read()\n",
    "    words = text.split()\n",
    "    ICSIas_wc_Dev.append(len(words))\n",
    "for file in sorted(glob.glob(PATH_ICSI_TRAIN+\"*_as.txt\")):\n",
    "    f = open(file, \"r\")\n",
    "    text = f.read()\n",
    "    words = text.split()\n",
    "    ICSIas_wc_TRAIN.append(len(words))\n",
    "for file in sorted(glob.glob(PATH_ICSI_TEST+\"*_as.txt\")):\n",
    "    f = open(file, \"r\")\n",
    "    text = f.read()\n",
    "    words = text.split()\n",
    "    ICSIas_wc_TEST.append(len(words))"
   ]
  },
  {
   "cell_type": "code",
   "execution_count": 19,
   "metadata": {},
   "outputs": [
    {
     "data": {
      "text/plain": [
       "{'Dev': 147.96, 'Test': 111.16666666666667, 'Train': 101.8}"
      ]
     },
     "execution_count": 19,
     "metadata": {},
     "output_type": "execute_result"
    }
   ],
   "source": [
    "ICSIas_wc = {'Dev': Average(ICSIas_wc_Dev),\n",
    "              'Test':Average(ICSIas_wc_TEST),\n",
    "              'Train':Average(ICSIas_wc_TRAIN)}\n",
    "ICSIas_wc"
   ]
  },
  {
   "cell_type": "code",
   "execution_count": 20,
   "metadata": {},
   "outputs": [
    {
     "data": {
      "text/plain": [
       "{'Dev': 1547.3351063829787, 'Test': 1521.125, 'Train': 1347.59375}"
      ]
     },
     "execution_count": 20,
     "metadata": {},
     "output_type": "execute_result"
    }
   ],
   "source": [
    "AMItext_wc_Dev = []\n",
    "AMItext_wc_TRAIN = []\n",
    "AMItext_wc_TEST = []\n",
    "for file in sorted(glob.glob(PATH_AMI_DEV+\"*_da.txt\")):\n",
    "    f = open(file, \"r\")\n",
    "    text = f.read()\n",
    "    words = text.split()\n",
    "    AMItext_wc_Dev.append(len(words))\n",
    "for file in sorted(glob.glob(PATH_AMI_TRAIN+\"*_da.txt\")):\n",
    "    f = open(file, \"r\")\n",
    "    text = f.read()\n",
    "    words = text.split()\n",
    "    AMItext_wc_TRAIN.append(len(words))\n",
    "for file in sorted(glob.glob(PATH_AMI_TEST+\"*_da.txt\")):\n",
    "    f = open(file, \"r\")\n",
    "    text = f.read()\n",
    "    words = text.split()\n",
    "    AMItext_wc_TEST.append(len(words))\n",
    "    \n",
    "AMItext_wc = {'Dev': Average(AMItext_wc_Dev),\n",
    "              'Test':Average(AMItext_wc_TEST),\n",
    "              'Train':Average(AMItext_wc_TRAIN)}\n",
    "AMItext_wc"
   ]
  },
  {
   "cell_type": "code",
   "execution_count": 21,
   "metadata": {},
   "outputs": [
    {
     "data": {
      "text/plain": [
       "{'Dev': 1193.5106382978724, 'Test': 1200.0125, 'Train': 1069.3784722222222}"
      ]
     },
     "execution_count": 21,
     "metadata": {},
     "output_type": "execute_result"
    }
   ],
   "source": [
    "AMItextc_wc_Dev = []\n",
    "AMItextc_wc_TRAIN = []\n",
    "AMItextc_wc_TEST = []\n",
    "for file in sorted(glob.glob(PATH_AMI_DEV+\"*_dac.txt\")):\n",
    "    f = open(file, \"r\")\n",
    "    text = f.read()\n",
    "    words = text.split()\n",
    "    AMItextc_wc_Dev.append(len(words))\n",
    "for file in sorted(glob.glob(PATH_AMI_TRAIN+\"*_dac.txt\")):\n",
    "    f = open(file, \"r\")\n",
    "    text = f.read()\n",
    "    words = text.split()\n",
    "    AMItextc_wc_TRAIN.append(len(words))\n",
    "for file in sorted(glob.glob(PATH_AMI_TEST+\"*_dac.txt\")):\n",
    "    f = open(file, \"r\")\n",
    "    text = f.read()\n",
    "    words = text.split()\n",
    "    AMItextc_wc_TEST.append(len(words))\n",
    "    \n",
    "AMItextc_wc = {'Dev': Average(AMItextc_wc_Dev),\n",
    "              'Test':Average(AMItextc_wc_TEST),\n",
    "              'Train':Average(AMItextc_wc_TRAIN)}\n",
    "AMItextc_wc"
   ]
  },
  {
   "cell_type": "code",
   "execution_count": 22,
   "metadata": {},
   "outputs": [
    {
     "data": {
      "text/plain": [
       "{'Dev': 446.53723404255317, 'Test': 529.4625, 'Train': 486.46180555555554}"
      ]
     },
     "execution_count": 22,
     "metadata": {},
     "output_type": "execute_result"
    }
   ],
   "source": [
    "AMIes_wc_Dev = []\n",
    "AMIes_wc_TRAIN = []\n",
    "AMIes_wc_TEST = []\n",
    "for file in sorted(glob.glob(PATH_AMI_DEV+\"*_es.txt\")):\n",
    "    f = open(file, \"r\")\n",
    "    text = f.read()\n",
    "    words = text.split()\n",
    "    AMIes_wc_Dev.append(len(words))\n",
    "for file in sorted(glob.glob(PATH_AMI_TRAIN+\"*_es.txt\")):\n",
    "    f = open(file, \"r\")\n",
    "    text = f.read()\n",
    "    words = text.split()\n",
    "    AMIes_wc_TRAIN.append(len(words))\n",
    "for file in sorted(glob.glob(PATH_AMI_TEST+\"*_es.txt\")):\n",
    "    f = open(file, \"r\")\n",
    "    text = f.read()\n",
    "    words = text.split()\n",
    "    AMIes_wc_TEST.append(len(words))\n",
    "    \n",
    "AMIes_wc = {'Dev': Average(AMIes_wc_Dev),\n",
    "              'Test':Average(AMIes_wc_TEST),\n",
    "              'Train':Average(AMIes_wc_TRAIN)}\n",
    "AMIes_wc"
   ]
  },
  {
   "cell_type": "code",
   "execution_count": 23,
   "metadata": {},
   "outputs": [
    {
     "data": {
      "text/plain": [
       "{'Dev': 446.53723404255317, 'Test': 529.4625, 'Train': 486.46180555555554}"
      ]
     },
     "execution_count": 23,
     "metadata": {},
     "output_type": "execute_result"
    }
   ],
   "source": [
    "AMIesc_wc_Dev = []\n",
    "AMIesc_wc_TRAIN = []\n",
    "AMIesc_wc_TEST = []\n",
    "for file in sorted(glob.glob(PATH_AMI_DEV+\"*_esc.txt\")):\n",
    "    f = open(file, \"r\")\n",
    "    text = f.read()\n",
    "    words = text.split()\n",
    "    AMIesc_wc_Dev.append(len(words))\n",
    "for file in sorted(glob.glob(PATH_AMI_TRAIN+\"*_esc.txt\")):\n",
    "    f = open(file, \"r\")\n",
    "    text = f.read()\n",
    "    words = text.split()\n",
    "    AMIesc_wc_TRAIN.append(len(words))\n",
    "for file in sorted(glob.glob(PATH_AMI_TEST+\"*_esc.txt\")):\n",
    "    f = open(file, \"r\")\n",
    "    text = f.read()\n",
    "    words = text.split()\n",
    "    AMIesc_wc_TEST.append(len(words))\n",
    "    \n",
    "AMIesc_wc = {'Dev': Average(AMIesc_wc_Dev),\n",
    "              'Test':Average(AMIesc_wc_TEST),\n",
    "              'Train':Average(AMIesc_wc_TRAIN)}\n",
    "AMIes_wc"
   ]
  },
  {
   "cell_type": "code",
   "execution_count": 24,
   "metadata": {},
   "outputs": [
    {
     "data": {
      "text/plain": [
       "{'Dev': 163.31914893617022, 'Test': 172.0, 'Train': 157.57333333333332}"
      ]
     },
     "execution_count": 24,
     "metadata": {},
     "output_type": "execute_result"
    }
   ],
   "source": [
    "AMIas_wc_Dev = []\n",
    "AMIas_wc_TRAIN = []\n",
    "AMIas_wc_TEST = []\n",
    "for file in sorted(glob.glob(PATH_AMI_DEV+\"*_as.txt\")):\n",
    "    f = open(file, \"r\")\n",
    "    text = f.read()\n",
    "    words = text.split()\n",
    "    AMIas_wc_Dev.append(len(words))\n",
    "for file in sorted(glob.glob(PATH_AMI_TRAIN+\"*_as.txt\")):\n",
    "    f = open(file, \"r\")\n",
    "    text = f.read()\n",
    "    words = text.split()\n",
    "    AMIas_wc_TRAIN.append(len(words))\n",
    "for file in sorted(glob.glob(PATH_AMI_TEST+\"*_as.txt\")):\n",
    "    f = open(file, \"r\")\n",
    "    text = f.read()\n",
    "    words = text.split()\n",
    "    AMIas_wc_TEST.append(len(words))\n",
    "    \n",
    "AMIas_wc = {'Dev': Average(AMIas_wc_Dev),\n",
    "              'Test':Average(AMIas_wc_TEST),\n",
    "              'Train':Average(AMIas_wc_TRAIN)}\n",
    "AMIas_wc"
   ]
  },
  {
   "cell_type": "code",
   "execution_count": null,
   "metadata": {},
   "outputs": [],
   "source": []
  },
  {
   "cell_type": "code",
   "execution_count": 30,
   "metadata": {},
   "outputs": [
    {
     "name": "stdout",
     "output_type": "stream",
     "text": [
      "ICSI text {'Dev_Doc': 148, 'Test_Doc': 39, 'Train_Doc': 278}\n",
      "ICSI 1024  {'Dev_Doc': 411, 'Test_Doc': 93, 'Train_Doc': 697}\n",
      "ICSI 1024 Cleaned {'Dev_Doc': 338, 'Test_Doc': 79, 'Train_Doc': 577}\n",
      "AMI 1024 Cleaned EAX {'Dev_Doc': 159, 'Test_Doc': 40, 'Train_Doc': 287}\n"
     ]
    }
   ],
   "source": [
    "print(\"ICSI text\", ICSItext)\n",
    "print(\"ICSI 1024 \", ICSI1024)\n",
    "print(\"ICSI 1024 Cleaned\", ICSI1024cleaned)\n",
    "print(\"AMI 1024 Cleaned EAX\", ICSI1024cleaned_eax)"
   ]
  },
  {
   "cell_type": "code",
   "execution_count": 31,
   "metadata": {},
   "outputs": [
    {
     "name": "stdout",
     "output_type": "stream",
     "text": [
      "AMI text {'Dev_Doc': 188, 'Test_Doc': 80, 'Train_Doc': 288}\n",
      "AMI 1024  {'Dev_Doc': 382, 'Test_Doc': 164, 'Train_Doc': 535}\n",
      "AMI 1024 Cleaned {'Dev_Doc': 320, 'Test_Doc': 130, 'Train_Doc': 452}\n",
      "AMI 1024 Cleaned EAX {'Dev_Doc': 190, 'Test_Doc': 83, 'Train_Doc': 299}\n"
     ]
    }
   ],
   "source": [
    "print(\"AMI text\", AMItext)\n",
    "print(\"AMI 1024 \", AMI1024)\n",
    "print(\"AMI 1024 Cleaned\", AMI1024cleaned)\n",
    "print(\"AMI 1024 Cleaned EAX\", AMI1024cleaned_eax)"
   ]
  },
  {
   "cell_type": "code",
   "execution_count": 27,
   "metadata": {},
   "outputs": [
    {
     "name": "stdout",
     "output_type": "stream",
     "text": [
      "ICSI Original Text Word Count \n",
      " {'Dev': 2297.837837837838, 'Test': 1848.5641025641025, 'Train': 1972.5935251798562}\n",
      "ICSI Extractive Summary Word Count \n",
      " {'Dev': 402.47972972972974, 'Test': 280.3333333333333, 'Train': 225.47841726618705}\n",
      "ICSI Abstractive Summary Word Count \n",
      " {'Dev': 147.96, 'Test': 111.16666666666667, 'Train': 101.8}\n",
      "ICSI Cleaned Extractive Summary Word Count \n",
      " {'Dev': 342.93918918918916, 'Test': 238.56410256410257, 'Train': 189.37410071942446}\n",
      "ICSI Cleaned Original Text Word Count \n",
      " {'Dev': 1794.9932432432433, 'Test': 1441.8974358974358, 'Train': 1524.3489208633093}\n"
     ]
    }
   ],
   "source": [
    "print(\"ICSI Original Text Word Count \\n\", ICSItext_wc)\n",
    "print(\"ICSI Extractive Summary Word Count \\n\", ICSIes_wc)\n",
    "print(\"ICSI Abstractive Summary Word Count \\n\", ICSIas_wc)\n",
    "print(\"ICSI Cleaned Extractive Summary Word Count \\n\", ICSIesc_wc)\n",
    "print(\"ICSI Cleaned Original Text Word Count \\n\", ICSItextc_wc)"
   ]
  },
  {
   "cell_type": "code",
   "execution_count": 72,
   "metadata": {},
   "outputs": [
    {
     "name": "stdout",
     "output_type": "stream",
     "text": [
      "AMI Original Text Word Count \n",
      " {'Dev': 1547.3351063829787, 'Test': 1521.125, 'Train': 1347.59375}\n",
      "AMI Extractive Summary Word Count \n",
      " {'Dev': 446.53723404255317, 'Test': 529.4625, 'Train': 486.46180555555554}\n",
      "AMI Abstractive Summary Word Count \n",
      " {'Dev': 163.31914893617022, 'Test': 172.0, 'Train': 157.57333333333332}\n",
      "AMI Cleaned Original Text Word Count \n",
      " {'Dev': 1193.5106382978724, 'Test': 1200.0125, 'Train': 1069.3784722222222}\n",
      "AMI Cleaned Extractive Summary Word Count \n",
      " {'Dev': 385.47872340425533, 'Test': 460.6375, 'Train': 423.1666666666667}\n"
     ]
    }
   ],
   "source": [
    "print(\"AMI Original Text Word Count \\n\", AMItext_wc)\n",
    "print(\"AMI Extractive Summary Word Count \\n\", AMIes_wc)\n",
    "print(\"AMI Abstractive Summary Word Count \\n\", AMIas_wc)\n",
    "print(\"AMI Cleaned Original Text Word Count \\n\", AMItextc_wc)\n",
    "print(\"AMI Cleaned Extractive Summary Word Count \\n\", AMIesc_wc)"
   ]
  }
 ],
 "metadata": {
  "kernelspec": {
   "display_name": "Python 3",
   "language": "python",
   "name": "python3"
  },
  "language_info": {
   "codemirror_mode": {
    "name": "ipython",
    "version": 3
   },
   "file_extension": ".py",
   "mimetype": "text/x-python",
   "name": "python",
   "nbconvert_exporter": "python",
   "pygments_lexer": "ipython3",
   "version": "3.8.3"
  }
 },
 "nbformat": 4,
 "nbformat_minor": 4
}
