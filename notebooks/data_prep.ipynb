{
 "cells": [
  {
   "cell_type": "markdown",
   "metadata": {},
   "source": [
    "## ICSI corpus. \n",
    "Go through the list of files and extract passage and the summaries, using the DialogueActs as intermediary"
   ]
  },
  {
   "cell_type": "code",
   "execution_count": 15,
   "metadata": {},
   "outputs": [],
   "source": [
    "import glob, os\n",
    "#import xml.etree.ElementTree as et\n",
    "from lxml import etree as et\n",
    "from collections import OrderedDict, defaultdict\n",
    "ROOT_DIR = \"/home/rajivn/W266/W266-fall-2020-hwu-rnair/data/ICSI_plus_NXT/ICSIplus\""
   ]
  },
  {
   "cell_type": "markdown",
   "metadata": {},
   "source": [
    "### Extract words"
   ]
  },
  {
   "cell_type": "code",
   "execution_count": 16,
   "metadata": {
    "scrolled": false
   },
   "outputs": [],
   "source": [
    "meeting_dict = dict() # key = meeting, value = ordered dict of word id: word\n",
    "cur_word = None\n",
    "for word_f in sorted(glob.glob(ROOT_DIR+\"/Words/*xml\")):\n",
    "    m = word_f.split(\"/\")[-1].split(\".\")\n",
    "    meeting_name = m[0]+\".\"+m[1]\n",
    "    root = et.parse(word_f).getroot()\n",
    "    nodes = root.findall('*')\n",
    "    meet_words = OrderedDict()\n",
    "\n",
    "    for node in nodes:\n",
    "        if node.tag=='w':\n",
    "            meet_words[node.attrib['{http://nite.sourceforge.net/}id']] = node.text\n",
    "            cur_word = node.text\n",
    "        for w in node.values():\n",
    "            if \"disfmarker\" in w:\n",
    "                meet_words [node.attrib['{http://nite.sourceforge.net/}id']] = cur_word\n",
    "    meeting_dict[meeting_name] = meet_words\n",
    "    \n",
    "#meeting_dict['Bdb001.D']['Bdb001.w.2,391']"
   ]
  },
  {
   "cell_type": "markdown",
   "metadata": {},
   "source": [
    "##### Extract complete text and store in files under ../ICSI_plus_NXT/processing/_meeting_id_words.txt file"
   ]
  },
  {
   "cell_type": "code",
   "execution_count": 17,
   "metadata": {},
   "outputs": [],
   "source": [
    "len(meeting_dict.keys())\n",
    "\n",
    "for meeting, words in meeting_dict.items():\n",
    "    with open(\"../data/ICSI_plus_NXT/processing/\"+meeting+\"_words.txt\", \"w\") as f:\n",
    "        for word in words.values():\n",
    "            f.write(word)\n",
    "            f.write(\" \")"
   ]
  },
  {
   "cell_type": "markdown",
   "metadata": {},
   "source": [
    "### Extract dialogues"
   ]
  },
  {
   "cell_type": "markdown",
   "metadata": {},
   "source": [
    "Dialogues are equivalent to complete sentences"
   ]
  },
  {
   "cell_type": "code",
   "execution_count": 18,
   "metadata": {
    "scrolled": false
   },
   "outputs": [],
   "source": [
    "meeting_dialogues = dict() # key = meeting name, value = list of tuples start, end word ids(end can be same as start)\n",
    "for dialog_f in sorted(glob.glob(ROOT_DIR+\"/DialogueActs/*acts.xml\")):\n",
    "    m = dialog_f.split(\"/\")[-1].split(\".\")\n",
    "    meeting_name = m[0]+\".\"+m[1]\n",
    "    root = et.parse(dialog_f).getroot()\n",
    "    dlist = root.findall('dialogueact')\n",
    "    for dl in dlist:\n",
    "        nodes = dl.findall(\"{http://nite.sourceforge.net/}child\")\n",
    "        dialog_id = dl.attrib['{http://nite.sourceforge.net/}id']\n",
    "\n",
    "        for dl_c in nodes:\n",
    "            words = dl_c.attrib['href']\n",
    "            words = words.split(\"#\")[1]\n",
    "            try:\n",
    "                start, end = words.split(\"..\")\n",
    "                start, end = start.replace(\"id\", \"\"), end.replace(\"id\", \"\")\n",
    "                start, end = start.replace(\"(\", \"\"), end.replace(\"(\", \"\")\n",
    "                start, end = start.replace(\")\", \"\"), end.replace(\")\", \"\")\n",
    "\n",
    "    #            print(start, end)\n",
    "            except:\n",
    "                start = end = words.replace(\"id\", \"\").replace(\"(\", \"\").replace(\")\", \"\")\n",
    "    #            print(start)\n",
    "            if meeting_name not in meeting_dialogues:\n",
    "                meeting_dialogues[meeting_name] = OrderedDict()\n",
    "            meeting_dialogues[meeting_name][dialog_id] = ((start, end))\n",
    "\n",
    "\n"
   ]
  },
  {
   "cell_type": "markdown",
   "metadata": {},
   "source": [
    "#####  Extract complete dialogues and store in files under ../ICSI_plus_NXT/processing/_meeting_id_dialogues.txt file"
   ]
  },
  {
   "cell_type": "code",
   "execution_count": 19,
   "metadata": {},
   "outputs": [
    {
     "name": "stdout",
     "output_type": "stream",
     "text": [
      "465\n",
      "here\n",
      "here 2\n"
     ]
    }
   ],
   "source": [
    "print(len(meeting_dialogues.keys()))\n",
    "#print(meeting_dialogues['Bdb001'])\n",
    "dialogues = dict() # key = dialogue id, value = text (required for summaries)\n",
    "for meeting, sentence_map in meeting_dialogues.items():\n",
    "    with open(\"../data/ICSI_plus_NXT/processing/\"+meeting+\"_dialogues.txt\", \"w\") as f:\n",
    "        starts, ends = dict(), dict()\n",
    "        for d_id, (start, end) in sentence_map.items():\n",
    "            if d_id == 'Bdb001.D.dialogueact285':\n",
    "                print (\"here\")\n",
    "            starts[start] = d_id\n",
    "            ends[end] = d_id\n",
    "        #go through entire text and start printing if start token is in \"starts\". stop printing if end token is in \"ends\"\n",
    "        print_w = False\n",
    "        cur_d = None\n",
    "        for word_id, word in meeting_dict[meeting].items():\n",
    "            if word_id == 'Bdb001.w.2,391':\n",
    "                print(\"here 2\")\n",
    "            if word_id in starts:\n",
    "                cur_d = starts[word_id]\n",
    "                print_w = True\n",
    "            if print_w:\n",
    "                f.write(word + \" \")\n",
    "                dialogues[cur_d] = dialogues.get(cur_d, \"\") + word+ \" \"\n",
    "            if word_id in ends:\n",
    "                print_w = False\n",
    "                f.write(\"\\n\")\n",
    "\n"
   ]
  },
  {
   "cell_type": "code",
   "execution_count": 20,
   "metadata": {},
   "outputs": [
    {
     "name": "stdout",
     "output_type": "stream",
     "text": [
      "P - file for each frame is storing a vector of cepstral or PLP values , \n"
     ]
    }
   ],
   "source": [
    "print(dialogues['Bdb001.D.dialogueact285'])"
   ]
  },
  {
   "cell_type": "markdown",
   "metadata": {},
   "source": [
    "### Extract summaries"
   ]
  },
  {
   "cell_type": "code",
   "execution_count": 21,
   "metadata": {},
   "outputs": [],
   "source": [
    "meeting_summaries = defaultdict(list) # key = meeting name, value = list of tuples start, end word ids(end can be same as start)\n",
    "\n",
    "for dialog_f in sorted(glob.glob(ROOT_DIR+\"/Contributions/Summarization/extractive/*extsumm.xml\")):\n",
    "    m = dialog_f.split(\"/\")[-1].split(\".\")\n",
    "    meeting_name = m[0]+\".\"+m[1]\n",
    "    root = et.parse(dialog_f).getroot()\n",
    "    dlist = root.findall('extsumm/{http://nite.sourceforge.net/}child')\n",
    "    for dl in dlist:\n",
    "        words = dl.attrib['href']\n",
    "        words = words.split(\"#\")[1]\n",
    "        try:\n",
    "            start, end = words.split(\"..\")\n",
    "            start, end = start.replace(\"id\", \"\"), end.replace(\"id\", \"\")\n",
    "            start, end = start.replace(\"(\", \"\"), end.replace(\"(\", \"\")\n",
    "            start, end = start.replace(\")\", \"\"), end.replace(\")\", \"\")\n",
    "            \n",
    "#            print(start, end)\n",
    "        except:\n",
    "            start = end = words.replace(\"id\", \"\").replace(\"(\", \"\").replace(\")\", \"\")\n",
    "#            print(start)\n",
    "        meeting_summaries[meeting_name].append((start, end))\n"
   ]
  },
  {
   "cell_type": "code",
   "execution_count": 22,
   "metadata": {
    "scrolled": false
   },
   "outputs": [],
   "source": [
    "for meeting, summ_list in meeting_summaries.items():\n",
    "    with open(\"../data/ICSI_plus_NXT/processing/\"+meeting+\"_summaries.txt\", \"w\") as f:\n",
    "        for start, end in summ_list:\n",
    "            st = int(start.split('dialogueact')[1])\n",
    "            en = int(start.split('dialogueact')[1])+1\n",
    "            for d in range(st, en):\n",
    "                key = start.split('dialogueact')[0]+\"dialogueact\"+str(d)\n",
    "                if key not in dialogues:\n",
    "                    print(\"missing\", key)\n",
    "                f.write(dialogues.get(key))\n",
    "                f.write(\"\\n\")\n"
   ]
  },
  {
   "cell_type": "code",
   "execution_count": null,
   "metadata": {},
   "outputs": [],
   "source": []
  },
  {
   "cell_type": "code",
   "execution_count": null,
   "metadata": {},
   "outputs": [],
   "source": []
  }
 ],
 "metadata": {
  "kernelspec": {
   "display_name": "Python 3",
   "language": "python",
   "name": "python3"
  },
  "language_info": {
   "codemirror_mode": {
    "name": "ipython",
    "version": 3
   },
   "file_extension": ".py",
   "mimetype": "text/x-python",
   "name": "python",
   "nbconvert_exporter": "python",
   "pygments_lexer": "ipython3",
   "version": "3.8.3"
  }
 },
 "nbformat": 4,
 "nbformat_minor": 4
}
