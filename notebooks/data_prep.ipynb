{
 "cells": [
  {
   "cell_type": "markdown",
   "metadata": {},
   "source": [
    "## ICSI corpus. \n",
    "Go through the list of files and extract passage and the summaries, using the DialogueActs as intermediary"
   ]
  },
  {
   "cell_type": "code",
   "execution_count": 75,
   "metadata": {},
   "outputs": [],
   "source": [
    "import glob, os\n",
    "#import xml.etree.ElementTree as et\n",
    "from lxml import etree as et\n",
    "from collections import OrderedDict, defaultdict"
   ]
  },
  {
   "cell_type": "markdown",
   "metadata": {},
   "source": [
    "### Extract words"
   ]
  },
  {
   "cell_type": "code",
   "execution_count": 46,
   "metadata": {},
   "outputs": [],
   "source": [
    "meeting_dict = dict() # key = meeting, value = ordered dict of word id: word\n",
    "cur_word = None\n",
    "for word_f in sorted(glob.glob(\"/home/rajivn/W266/W266-fall-2020-hwu-rnair/data/ICSI_plus_NXT/ICSIplus/Words/*xml\")):\n",
    "    meeting_name = word_f.split(\"/\")[-1].split(\".\")[0]\n",
    "    root = et.parse(word_f).getroot()\n",
    "    nodes = root.findall('*')\n",
    "    meet_words = OrderedDict()\n",
    "\n",
    "    for node in nodes:\n",
    "        if 'W' in node.values():\n",
    "            meet_words[node.attrib['{http://nite.sourceforge.net/}id']] = node.text\n",
    "            cur_word = node.text\n",
    "        for w in node.values():\n",
    "            if \"disfmarker\" in w:\n",
    "                meet_words [node.attrib['{http://nite.sourceforge.net/}id']] = cur_word\n",
    "    meeting_dict[meeting_name] = meet_words\n",
    "    \n"
   ]
  },
  {
   "cell_type": "markdown",
   "metadata": {},
   "source": [
    "##### Extract complete text and store in files under ../ICSI_plus_NXT/processing/_meeting_id_words.txt file"
   ]
  },
  {
   "cell_type": "code",
   "execution_count": 94,
   "metadata": {},
   "outputs": [],
   "source": [
    "len(meeting_dict.keys())\n",
    "\n",
    "for meeting, words in meeting_dict.items():\n",
    "    with open(\"../data/ICSI_plus_NXT/processing/\"+meeting+\"_words.txt\", \"w\") as f:\n",
    "        for word in words.values():\n",
    "            f.write(word)\n",
    "            f.write(\" \")"
   ]
  },
  {
   "cell_type": "markdown",
   "metadata": {},
   "source": [
    "### Extract dialogues"
   ]
  },
  {
   "cell_type": "markdown",
   "metadata": {},
   "source": [
    "Dialogues are equivalent to complete sentences"
   ]
  },
  {
   "cell_type": "code",
   "execution_count": 96,
   "metadata": {
    "scrolled": false
   },
   "outputs": [],
   "source": [
    "meeting_dialogues = defaultdict(list) # key = meeting name, value = list of tuples start, end word ids(end can be same as start)\n",
    "for dialog_f in sorted(glob.glob(\"/home/rajivn/W266/W266-fall-2020-hwu-rnair/data/ICSI_plus_NXT/ICSIplus/DialogueActs/*acts.xml\")):\n",
    "    meeting_name = dialog_f.split(\"/\")[-1].split(\".\")[0]\n",
    "    root = et.parse(dialog_f).getroot()\n",
    "    dlist = root.findall('dialogueact/{http://nite.sourceforge.net/}child')\n",
    "    for dl in dlist:\n",
    "        words = dl.attrib['href']\n",
    "        words = words.split(\"#\")[1]\n",
    "        try:\n",
    "            start, end = words.split(\"..\")\n",
    "            start, end = start.replace(\"id\", \"\"), end.replace(\"id\", \"\")\n",
    "            start, end = start.replace(\"(\", \"\"), end.replace(\"(\", \"\")\n",
    "            start, end = start.replace(\")\", \"\"), end.replace(\")\", \"\")\n",
    "            \n",
    "#            print(start, end)\n",
    "        except:\n",
    "            start = end = words.replace(\"id\", \"\").replace(\"(\", \"\").replace(\")\", \"\")\n",
    "#            print(start)\n",
    "        meeting_dialogues[meeting_name].append((start, end))\n",
    "\n"
   ]
  },
  {
   "cell_type": "markdown",
   "metadata": {},
   "source": [
    "#####  Extract complete dialogues and store in files under ../ICSI_plus_NXT/processing/_meeting_id_dialogues.txt file"
   ]
  },
  {
   "cell_type": "code",
   "execution_count": 114,
   "metadata": {},
   "outputs": [
    {
     "name": "stdout",
     "output_type": "stream",
     "text": [
      "75\n"
     ]
    }
   ],
   "source": [
    "print(len(meeting_dialogues.keys()))\n",
    "#print(meeting_dialogues['Bdb001'])\n",
    "\n",
    "for meeting, sentences in meeting_dialogues.items():\n",
    "    with open(\"../data/ICSI_plus_NXT/processing/\"+meeting+\"_dialogues.txt\", \"w\") as f:\n",
    "        starts, ends = set(), set()\n",
    "        for start, end in sentences:\n",
    "            starts.add(start)\n",
    "            ends.add(end)\n",
    "        #go through entire text and start printing if start token is in \"starts\". stop printing if end token is in \"ends\"\n",
    "        print_w = False\n",
    "        nl = False\n",
    "        for word_id, word in meeting_dict[meeting].items():\n",
    "            if word_id in starts:\n",
    "                print_w = True\n",
    "            if word_id in ends:\n",
    "                print_w = False\n",
    "                nl = True\n",
    "            if print_w:\n",
    "                if nl:\n",
    "                    f.write(\"\\n\")\n",
    "                    nl = False\n",
    "                f.write(word+ \" \")\n"
   ]
  },
  {
   "cell_type": "markdown",
   "metadata": {},
   "source": [
    "### Extract summaries"
   ]
  },
  {
   "cell_type": "code",
   "execution_count": 29,
   "metadata": {},
   "outputs": [],
   "source": [
    "for dialog_f in sorted(glob.glob(\"/home/rajivn/W266/W266-fall-2020-hwu-rnair/data/ICSI_plus_NXT/ICSIplus/DialogueActs/*acts.xml\")):\n",
    "    meeting_name = dialog_f.split(\"/\")[-1].split(\".\")[0]\n",
    "    "
   ]
  },
  {
   "cell_type": "code",
   "execution_count": 72,
   "metadata": {},
   "outputs": [
    {
     "data": {
      "text/plain": [
       "['Bdb001.A.words.xml#id(Bdb001.w.1,362)', 'id(Bdb001.disfmarker.56)']"
      ]
     },
     "execution_count": 72,
     "metadata": {},
     "output_type": "execute_result"
    }
   ],
   "source": [
    "\"Bdb001.A.words.xml#id(Bdb001.w.1,362)..id(Bdb001.disfmarker.56)\".split(\"..\")"
   ]
  },
  {
   "cell_type": "code",
   "execution_count": 73,
   "metadata": {},
   "outputs": [
    {
     "data": {
      "text/plain": [
       "['Bdb001.A.words.xml#id(Bdb001.w.1,476)']"
      ]
     },
     "execution_count": 73,
     "metadata": {},
     "output_type": "execute_result"
    }
   ],
   "source": [
    "\"Bdb001.A.words.xml#id(Bdb001.w.1,476)\".split(\"..\")"
   ]
  },
  {
   "cell_type": "code",
   "execution_count": null,
   "metadata": {},
   "outputs": [],
   "source": []
  }
 ],
 "metadata": {
  "kernelspec": {
   "display_name": "Python 3",
   "language": "python",
   "name": "python3"
  },
  "language_info": {
   "codemirror_mode": {
    "name": "ipython",
    "version": 3
   },
   "file_extension": ".py",
   "mimetype": "text/x-python",
   "name": "python",
   "nbconvert_exporter": "python",
   "pygments_lexer": "ipython3",
   "version": "3.8.3"
  }
 },
 "nbformat": 4,
 "nbformat_minor": 4
}
