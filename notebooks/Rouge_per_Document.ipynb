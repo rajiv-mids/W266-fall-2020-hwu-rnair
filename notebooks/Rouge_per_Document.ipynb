{
 "cells": [
  {
   "cell_type": "code",
   "execution_count": 1,
   "metadata": {
    "colab": {
     "base_uri": "https://localhost:8080/"
    },
    "id": "CtDoLqNsi8qr",
    "outputId": "638e4bd5-f51d-4b30-98e8-c825236800f9"
   },
   "outputs": [
    {
     "name": "stdout",
     "output_type": "stream",
     "text": [
      "Collecting nlp\n",
      "  Downloading nlp-0.4.0-py3-none-any.whl (1.7 MB)\n",
      "\u001b[K     |████████████████████████████████| 1.7 MB 4.2 MB/s eta 0:00:01\n",
      "\u001b[?25hCollecting xxhash\n",
      "  Downloading xxhash-2.0.0-cp38-cp38-macosx_10_9_x86_64.whl (31 kB)\n",
      "Collecting pyarrow>=0.16.0\n",
      "  Downloading pyarrow-2.0.0-cp38-cp38-macosx_10_13_x86_64.whl (13.4 MB)\n",
      "\u001b[K     |████████████████████████████████| 13.4 MB 7.2 MB/s eta 0:00:01\n",
      "\u001b[?25hRequirement already satisfied: requests>=2.19.0 in /Users/haileywu/opt/anaconda3/lib/python3.8/site-packages (from nlp) (2.24.0)\n",
      "Collecting dill\n",
      "  Downloading dill-0.3.3-py2.py3-none-any.whl (81 kB)\n",
      "\u001b[K     |████████████████████████████████| 81 kB 11.5 MB/s eta 0:00:01\n",
      "\u001b[?25hRequirement already satisfied: pandas in /Users/haileywu/opt/anaconda3/lib/python3.8/site-packages (from nlp) (1.0.5)\n",
      "Requirement already satisfied: tqdm>=4.27 in /Users/haileywu/opt/anaconda3/lib/python3.8/site-packages (from nlp) (4.47.0)\n",
      "Requirement already satisfied: filelock in /Users/haileywu/opt/anaconda3/lib/python3.8/site-packages (from nlp) (3.0.12)\n",
      "Requirement already satisfied: numpy in /Users/haileywu/opt/anaconda3/lib/python3.8/site-packages (from nlp) (1.18.5)\n",
      "Requirement already satisfied: certifi>=2017.4.17 in /Users/haileywu/opt/anaconda3/lib/python3.8/site-packages (from requests>=2.19.0->nlp) (2020.6.20)\n",
      "Requirement already satisfied: idna<3,>=2.5 in /Users/haileywu/opt/anaconda3/lib/python3.8/site-packages (from requests>=2.19.0->nlp) (2.10)\n",
      "Requirement already satisfied: urllib3!=1.25.0,!=1.25.1,<1.26,>=1.21.1 in /Users/haileywu/opt/anaconda3/lib/python3.8/site-packages (from requests>=2.19.0->nlp) (1.25.9)\n",
      "Requirement already satisfied: chardet<4,>=3.0.2 in /Users/haileywu/opt/anaconda3/lib/python3.8/site-packages (from requests>=2.19.0->nlp) (3.0.4)\n",
      "Requirement already satisfied: pytz>=2017.2 in /Users/haileywu/opt/anaconda3/lib/python3.8/site-packages (from pandas->nlp) (2020.1)\n",
      "Requirement already satisfied: python-dateutil>=2.6.1 in /Users/haileywu/opt/anaconda3/lib/python3.8/site-packages (from pandas->nlp) (2.8.1)\n",
      "Requirement already satisfied: six>=1.5 in /Users/haileywu/opt/anaconda3/lib/python3.8/site-packages (from python-dateutil>=2.6.1->pandas->nlp) (1.15.0)\n",
      "Installing collected packages: xxhash, pyarrow, dill, nlp\n",
      "Successfully installed dill-0.3.3 nlp-0.4.0 pyarrow-2.0.0 xxhash-2.0.0\n",
      "Requirement already satisfied: rouge in /Users/haileywu/opt/anaconda3/lib/python3.8/site-packages (1.0.0)\n",
      "Requirement already satisfied: six in /Users/haileywu/opt/anaconda3/lib/python3.8/site-packages (from rouge) (1.15.0)\n"
     ]
    }
   ],
   "source": [
    "!pip install transformers -q\n",
    "!pip install wandb -q\n",
    "#!pip install datasets\n",
    "!pip install nlp\n",
    "#!pip install rouge_score\n",
    "!pip install rouge\n",
    "#!curl -q https://raw.githubusercontent.com/pytorch/xla/master/contrib/scripts/env-setup.py -o pytorch-xla-env-setup.py\n",
    "#!python pytorch-xla-env-setup.py --apt-packages libomp5 libopenblas-dev"
   ]
  },
  {
   "cell_type": "code",
   "execution_count": 2,
   "metadata": {
    "id": "Rv1pYjjyjCCy"
   },
   "outputs": [
    {
     "ename": "ModuleNotFoundError",
     "evalue": "No module named 'torch'",
     "output_type": "error",
     "traceback": [
      "\u001b[0;31m---------------------------------------------------------------------------\u001b[0m",
      "\u001b[0;31mModuleNotFoundError\u001b[0m                       Traceback (most recent call last)",
      "\u001b[0;32m<ipython-input-2-78b82c12b453>\u001b[0m in \u001b[0;36m<module>\u001b[0;34m\u001b[0m\n\u001b[1;32m      1\u001b[0m \u001b[0;32mimport\u001b[0m \u001b[0mnumpy\u001b[0m \u001b[0;32mas\u001b[0m \u001b[0mnp\u001b[0m\u001b[0;34m\u001b[0m\u001b[0;34m\u001b[0m\u001b[0m\n\u001b[1;32m      2\u001b[0m \u001b[0;32mimport\u001b[0m \u001b[0mpandas\u001b[0m \u001b[0;32mas\u001b[0m \u001b[0mpd\u001b[0m\u001b[0;34m\u001b[0m\u001b[0;34m\u001b[0m\u001b[0m\n\u001b[0;32m----> 3\u001b[0;31m \u001b[0;32mimport\u001b[0m \u001b[0mtorch\u001b[0m\u001b[0;34m\u001b[0m\u001b[0;34m\u001b[0m\u001b[0m\n\u001b[0m\u001b[1;32m      4\u001b[0m \u001b[0;32mimport\u001b[0m \u001b[0mtorch\u001b[0m\u001b[0;34m.\u001b[0m\u001b[0mnn\u001b[0m\u001b[0;34m.\u001b[0m\u001b[0mfunctional\u001b[0m \u001b[0;32mas\u001b[0m \u001b[0mF\u001b[0m\u001b[0;34m\u001b[0m\u001b[0;34m\u001b[0m\u001b[0m\n\u001b[1;32m      5\u001b[0m \u001b[0;32mfrom\u001b[0m \u001b[0mtorch\u001b[0m\u001b[0;34m.\u001b[0m\u001b[0mutils\u001b[0m\u001b[0;34m.\u001b[0m\u001b[0mdata\u001b[0m \u001b[0;32mimport\u001b[0m \u001b[0mDataset\u001b[0m\u001b[0;34m,\u001b[0m \u001b[0mDataLoader\u001b[0m\u001b[0;34m,\u001b[0m \u001b[0mRandomSampler\u001b[0m\u001b[0;34m,\u001b[0m \u001b[0mSequentialSampler\u001b[0m\u001b[0;34m\u001b[0m\u001b[0;34m\u001b[0m\u001b[0m\n",
      "\u001b[0;31mModuleNotFoundError\u001b[0m: No module named 'torch'"
     ]
    }
   ],
   "source": [
    "import numpy as np\n",
    "import pandas as pd\n",
    "import torch\n",
    "import torch.nn.functional as F\n",
    "from torch.utils.data import Dataset, DataLoader, RandomSampler, SequentialSampler\n",
    "import time\n",
    "\n",
    "# Importing the T5 modules from huggingface/transformers\n",
    "# T5ForConditionalGeneration is specific for sequence-to-sequence\n",
    "from transformers import T5Tokenizer, T5ForConditionalGeneration\n",
    "\n",
    "#from nlp import load_metric\n",
    "import nlp\n",
    "from rouge import Rouge\n",
    "\n",
    "import wandb"
   ]
  },
  {
   "cell_type": "code",
   "execution_count": null,
   "metadata": {
    "id": "bO35Zpx1jDto"
   },
   "outputs": [],
   "source": [
    "# # Setting up the device for GPU usage\n",
    "from torch import cuda\n",
    "device = 'cuda' if cuda.is_available() else 'cpu'"
   ]
  },
  {
   "cell_type": "code",
   "execution_count": null,
   "metadata": {
    "colab": {
     "base_uri": "https://localhost:8080/"
    },
    "id": "q1v5ImF_jGCV",
    "outputId": "07a8b376-01b3-449f-bd54-806e82e46afc"
   },
   "outputs": [],
   "source": [
    "# !wandb login\n"
   ]
  },
  {
   "cell_type": "code",
   "execution_count": null,
   "metadata": {
    "id": "NyB6h0v2jHgk"
   },
   "outputs": [],
   "source": [
    "SEED = 42\n",
    "torch.manual_seed(SEED)\n",
    "np.random.seed(SEED)\n",
    "torch.backends.cudnn.deterministic = True\n",
    "\n",
    "train_size = 0.8"
   ]
  },
  {
   "cell_type": "code",
   "execution_count": null,
   "metadata": {
    "colab": {
     "base_uri": "https://localhost:8080/"
    },
    "id": "eS9bhJX8jR6d",
    "outputId": "a6878ce0-4dcc-4c0a-8039-66dfacefbbf8"
   },
   "outputs": [],
   "source": [
    "from google.colab import drive\n",
    "drive.mount('/content/drive', force_remount=True)\n",
    "\n",
    "#/content/drive/My Drive/W266/data/ICSI_extrac_abstrac_512token.csv"
   ]
  },
  {
   "cell_type": "code",
   "execution_count": null,
   "metadata": {
    "id": "Hf2tFnM1jjsK"
   },
   "outputs": [],
   "source": [
    "# id = wandb.util.generate_id()\n",
    "# id\n",
    "#dwlkfpg3 AMI 1024\n",
    "#1aei9r6r ICSI 1024\n",
    "#3ugok7an ICSI 512\n",
    "#30e6cuxp AMI 512"
   ]
  },
  {
   "cell_type": "code",
   "execution_count": null,
   "metadata": {
    "colab": {
     "base_uri": "https://localhost:8080/",
     "height": 567,
     "referenced_widgets": [
      "30ac0def19104f829729917719b3b380",
      "2178c472f3414a10a0558180dcd4b046",
      "bd44fdb8e78a48069d640b1df1e38583",
      "40bb5605a8024ae6a822ff4f007807cf",
      "93ad37e7a14f4a069440d85d6d888363",
      "ad9062705e0f4f7eb992f52e5307d17d",
      "a886a8061eef4e4ba0c7a65bb281def0",
      "c652ec57c2254b24a4a0959f072e651a"
     ]
    },
    "id": "bOYihkiPjTsr",
    "outputId": "1fe79aee-5c64-4e11-b777-8cdaa6f3cd8a"
   },
   "outputs": [],
   "source": [
    "# #run = wandb.init(project=\"T5_1024_MSFT_AMI_01\",resume=True)\n",
    "# run = wandb.init(project=\"T5_1024_MSFT_AMI_01\", id=\"dwlkfpg3\", resume=\"allow\")\n",
    "\n",
    "# config = wandb.config          # Initialize config\n",
    "# config.TRAIN_BATCH_SIZE = 1    # input batch size for training (default: 64)\n",
    "# config.VALID_BATCH_SIZE = 1    # input batch size for testing (default: 1000)\n",
    "# config.EPOCHS = 50        # number of epochs to train (default: 10)\n",
    "# config.LEARNING_RATE = 0.0005   # learning rate (default: 0.01)\n",
    "# config.SEED = 42               # random seed (default: 42)\n",
    "# config.MAX_LEN = 1024\n",
    "# config.SUMMARY_LEN = 150 \n"
   ]
  },
  {
   "cell_type": "code",
   "execution_count": null,
   "metadata": {
    "id": "ngiVMUAZjmqo"
   },
   "outputs": [],
   "source": [
    "def compute_rouge_scores(cand_list, ref_list):\n",
    "    \"\"\"\n",
    "    :param cand_list: list of candidate summaries\n",
    "    :param ref_list: list of reference summaries\n",
    "    :return: rouge scores\n",
    "    \"\"\"\n",
    "    rouge = Rouge()\n",
    "    rouge_1_f_score = 0.\n",
    "    rouge_2_f_score = 0.\n",
    "    rouge_L_f_score = 0.\n",
    "\n",
    "    rouge_1_r_score = 0.\n",
    "    rouge_2_r_score = 0.\n",
    "    rouge_L_r_score = 0.\n",
    "\n",
    "    rouge_1_p_score = 0.\n",
    "    rouge_2_p_score = 0.\n",
    "    rouge_L_p_score = 0.\n",
    "\n",
    "    doc_count = len(cand_list)\n",
    "\n",
    "    for cand, ref in zip(cand_list, ref_list):\n",
    "        rouge_scores = rouge.get_scores(cand, ref)[0]\n",
    "        rouge_1_f_score += rouge_scores['rouge-1']['f']\n",
    "        rouge_2_f_score += rouge_scores['rouge-2']['f']\n",
    "        rouge_L_f_score += rouge_scores['rouge-l']['f']\n",
    "\n",
    "        rouge_1_r_score += rouge_scores['rouge-1']['r']\n",
    "        rouge_2_r_score += rouge_scores['rouge-2']['r']\n",
    "        rouge_L_r_score += rouge_scores['rouge-l']['r']\n",
    "\n",
    "        rouge_1_p_score += rouge_scores['rouge-1']['p']\n",
    "        rouge_2_p_score += rouge_scores['rouge-2']['p']\n",
    "        rouge_L_p_score += rouge_scores['rouge-l']['p']\n",
    "    rouge_1_f_score = rouge_1_f_score / doc_count\n",
    "    rouge_2_f_score = rouge_2_f_score / doc_count\n",
    "    rouge_L_f_score = rouge_L_f_score / doc_count\n",
    "\n",
    "    results_dict = {}\n",
    "    results_dict['rouge_1_f_score'] = rouge_1_f_score\n",
    "    results_dict['rouge_2_f_score'] = rouge_2_f_score\n",
    "    results_dict['rouge_l_f_score'] = rouge_L_f_score\n",
    "\n",
    "    return results_dict"
   ]
  },
  {
   "cell_type": "code",
   "execution_count": 10,
   "metadata": {
    "colab": {
     "base_uri": "https://localhost:8080/"
    },
    "id": "I9Wa1EVRj1mh",
    "outputId": "868ed873-9273-48c7-bd39-848ccbdccc88"
   },
   "outputs": [
    {
     "name": "stdout",
     "output_type": "stream",
     "text": [
      "2210\n"
     ]
    }
   ],
   "source": [
    "dev_dataset = pd.read_csv('/content/drive/My Drive/W266/data/1024_tokens/ICSI_1024_dev.csv',encoding='latin-1')\n",
    "\n",
    "dev_dataset = dev_dataset.dropna(subset=['abstractive'])\n",
    "dev_dataset = dev_dataset.reset_index(drop=True)\n",
    "dev_dataset.original = 'summarize: ' + dev_dataset.original\n",
    "\n",
    "print(len(dev_dataset))\n",
    "\n"
   ]
  },
  {
   "cell_type": "code",
   "execution_count": 59,
   "metadata": {
    "id": "mVqzEpSekE5-"
   },
   "outputs": [],
   "source": [
    "MODEL_NAME = \"T5_1024_MSFT_AMI\"\n",
    "i = 8\n",
    "final_df = pd.read_csv('/content/drive/My Drive/W266/results/'+MODEL_NAME + \"_epoch\" +str(i)+'.csv')"
   ]
  },
  {
   "cell_type": "code",
   "execution_count": 60,
   "metadata": {
    "colab": {
     "base_uri": "https://localhost:8080/"
    },
    "id": "r5IEz2L7keXI",
    "outputId": "bae7b4c7-0f35-49a9-c5fb-b0223c828fbd"
   },
   "outputs": [
    {
     "name": "stdout",
     "output_type": "stream",
     "text": [
      "2210\n"
     ]
    }
   ],
   "source": [
    "print(len(final_df))"
   ]
  },
  {
   "cell_type": "code",
   "execution_count": 61,
   "metadata": {
    "id": "kGYcjHZDkhEz"
   },
   "outputs": [],
   "source": [
    "merged_df = pd.concat([dev_dataset.meeting, final_df.Generated_Abstractive_Summary], axis=1)"
   ]
  },
  {
   "cell_type": "code",
   "execution_count": 63,
   "metadata": {
    "id": "yaCfiae4lseA"
   },
   "outputs": [],
   "source": [
    "merged_df[\"meetinglevel\"] = merged_df.meeting.apply(lambda x: x.split(\".\")[0]) "
   ]
  },
  {
   "cell_type": "code",
   "execution_count": 65,
   "metadata": {
    "id": "9U2vOotZqsK_"
   },
   "outputs": [],
   "source": [
    "abstractive_sentence = set()\n",
    "gas_list =[]\n",
    "meeting_list = []\n",
    "generated_abstractive = \"\"\n",
    "for me in set(merged_df.meetinglevel):\n",
    "  for gas in merged_df[merged_df.meetinglevel == me]['Generated_Abstractive_Summary']:\n",
    "    generated_abstractive+= gas + \" \"\n",
    "\n",
    "  gas_list.append(generated_abstractive)\n",
    "  meeting_list.append(me)\n",
    "\n",
    "  abstractive_sentence = set()\n",
    "  generated_abstractive = \" \"\n",
    "  "
   ]
  },
  {
   "cell_type": "code",
   "execution_count": 66,
   "metadata": {
    "id": "d7ekksdgrYMa"
   },
   "outputs": [],
   "source": [
    "final_df = pd.DataFrame(\n",
    "    {'Meeting': meeting_list,\n",
    "     'Generated_Abstractive_Summary': gas_list\n",
    "    })"
   ]
  },
  {
   "cell_type": "code",
   "execution_count": 72,
   "metadata": {
    "id": "EoiWLMdk-g5F"
   },
   "outputs": [],
   "source": [
    "AMI_PATH = \"/content/drive/My Drive/W266/data/gold_abstractive_summary/goldsummary_AMI_as_dev.csv\"\n",
    "ICSI_PATH = \"/content/drive/My Drive/W266/data/gold_abstractive_summary/goldsummary_ICSI_as_dev.csv\"\n",
    "\n",
    "amigold = pd.read_csv(AMI_PATH)\n",
    "icsigold = pd.read_csv(ICSI_PATH)"
   ]
  },
  {
   "cell_type": "code",
   "execution_count": 76,
   "metadata": {
    "id": "6nPCbzPGErSP"
   },
   "outputs": [],
   "source": [
    "new_df = pd.merge(final_df, amigold,  how='left', left_on='Meeting', right_on ='meeting')\n"
   ]
  },
  {
   "cell_type": "code",
   "execution_count": 78,
   "metadata": {
    "id": "cW0_YSCTFqW4"
   },
   "outputs": [],
   "source": [
    "rouge_results = compute_rouge_scores(new_df.Generated_Abstractive_Summary,\n",
    "                                      new_df.abstractive)"
   ]
  },
  {
   "cell_type": "code",
   "execution_count": 79,
   "metadata": {
    "colab": {
     "base_uri": "https://localhost:8080/"
    },
    "id": "i7unnnU5F4La",
    "outputId": "102b310f-73e8-45a5-d743-01d273b18cbf"
   },
   "outputs": [
    {
     "data": {
      "text/plain": [
       "{'rouge_1_f_score': 0.21425437974409214,\n",
       " 'rouge_2_f_score': 0.06991289662688786,\n",
       " 'rouge_l_f_score': 0.28485830496864284}"
      ]
     },
     "execution_count": 79,
     "metadata": {
      "tags": []
     },
     "output_type": "execute_result"
    }
   ],
   "source": [
    "rouge_results"
   ]
  },
  {
   "cell_type": "code",
   "execution_count": 80,
   "metadata": {
    "colab": {
     "base_uri": "https://localhost:8080/"
    },
    "id": "MIb3dyy3F7Lu",
    "outputId": "2506231c-32e5-42ff-c278-e6290ba0f0ab"
   },
   "outputs": [
    {
     "data": {
      "text/plain": [
       "0      418\n",
       "1     1148\n",
       "2     1185\n",
       "3      619\n",
       "4     1099\n",
       "5      614\n",
       "6      742\n",
       "7      551\n",
       "8     2764\n",
       "9     1319\n",
       "10     663\n",
       "11    1161\n",
       "12      94\n",
       "13     527\n",
       "14    1541\n",
       "15     273\n",
       "16     918\n",
       "17     799\n",
       "18    1085\n",
       "19    1257\n",
       "20    2364\n",
       "21    1315\n",
       "22     655\n",
       "23    1386\n",
       "24     224\n",
       "25     114\n",
       "26    1112\n",
       "27    1055\n",
       "28     826\n",
       "29    1252\n",
       "30    1349\n",
       "31     383\n",
       "32     925\n",
       "33     682\n",
       "34     180\n",
       "35     273\n",
       "36    1694\n",
       "37     673\n",
       "38     249\n",
       "39     491\n",
       "40     315\n",
       "41    1732\n",
       "42     311\n",
       "43     999\n",
       "44     734\n",
       "45    1229\n",
       "46    1629\n",
       "Name: Generated_Abstractive_Summary, dtype: int64"
      ]
     },
     "execution_count": 80,
     "metadata": {
      "tags": []
     },
     "output_type": "execute_result"
    }
   ],
   "source": [
    "new_df['Generated_Abstractive_Summary'].apply(lambda x: x.split(\" \")).map(lambda x: len(x))"
   ]
  },
  {
   "cell_type": "code",
   "execution_count": 81,
   "metadata": {
    "colab": {
     "base_uri": "https://localhost:8080/",
     "height": 910
    },
    "id": "_y47HCJEHlvD",
    "outputId": "32aaef81-b5bb-45d2-ff30-775c9f1f14df"
   },
   "outputs": [
    {
     "data": {
      "application/vnd.google.colaboratory.intrinsic+json": {
       "type": "string"
      },
      "text/plain": [
       "\" The back has a discussion about possibly including a locator function and speech recognition. The industrial designer discussed the interior workings of a remote and then the team discussed the option to include speech recognition in their design. The group decided to make changeable covers in fruit colors and designs and to use one uniform shape. Afterwards, the project manager demonstrated the SmartBoard technology they would be using. The group decided to make changeable covers in fruit colors and designs and to use one uniform shape. The target group goes on to calculate the production cost and finds they are over the budget. compared options for energy sources, materials, case shapes, and interface components such as buttons and LCD screens. deciding that the remote will feature a locator function and will not feature speech recognition. The back has a discussion about possibly including a locator function and speech recognition. The group decided to make changeable covers in fruit colors and designs and to use one uniform shape. deciding that the remote will feature a locator function and will not feature speech recognition. The team then discussed what materials and components to use, the color of the remote, and programming options for the remote. The industrial designer discussed the interior workings of a remote and then the team discussed the option to include speech recognition in their design. User Interface Designer presented the basic components of the interface design, dividing the interface into two parts: voice commands and buttons. the user interface designer examined the interfaces of existing products and discussed using menus within an interface using push buttons which operate like a scroll wheel. compared the two options for energy sources, materials, case shapes, and interface components such as buttons and LCD screens. deciding on the product features will be included in a later designing phase to improve the feel of the product. It needs to be useable internationally, with few buttons. The industrial designer discussed the interior workings of a remote and then the team discussed the option to include speech recognition in their design. The considered options for the shape of the remote control, imagining how it would fit in the hand. Industrial Designer presented possible components to consider. compared the two components of completing the project will be functional, conceptual, detailed design, and detailed design. Then the industrial designer talks about the components design and explains exactly what remotes do and how they operate. The industrial designer discussed options for energy sources, materials, case shapes, and interface components such as buttons and LCD screens. The industrial designer discussed the interior workings of a remote and then the team discussed the option to include speech recognition in their design. kinetic energy component and the manufacturing process, in which users could connect their remotes to computers in order to download program settings. It would cost 16 Euros to produce, which is out of the budget. curved edges of the device will be included in a later designing phase to improve the feel of the product. The industrial designer discussed the interior workings of a remote and then the team discussed the option to include speech recognition in their design. compared the existing product to a wide range of customers. The industrial designer discussed the interior workings of a remote and then the team discussed the option to include speech recognition in their design. The marketing expert discussed user preferences in terms of remote controls and the increasing interest among younger consumers in speech recognition. The designers present the prototype, which they decided to make the color and shape of a banana. The industrial designer discussed options for energy sources, materials, case shapes, and interface components such as buttons and LCD screens. The team then discussed their target group and whether to use titanium or a spongy material in their design. buttons will be included in a later designing session to improve the feel of the product. The team then discussed their target group and whether to use titanium or a spongy material in their design. User Interface Designer discussed voice recognition with the group, and the group decided to not use it in their design. a user-friendly device should have since the voice recognition would allow it to be stationary. Afterwards, the project manager demonstrated the SmartBoard technology they would be using. Afterwards, the project manager demonstrated the SmartBoard technology they would be using. Afterwards, the project manager demonstrated the SmartBoard technology they would be using. deciding that the remote will feature a locator function and will not feature speech recognition. The background speaker technology will be included in a later designing phase to improve the feel of the product. The considered options for the shape of the remote control, imagining how it would fit in the hand. The whole team tried out the SMARTboard, by drawing on the whiteboard. The marketing expert discussed findings from trend watching reports and discussed her personal preferences in how to incorporate the results of the trend watching reports into the appearance of the remote. marketing expert presented findings from trend watching reports and discussed her personal preferences in how to incorporate the results of the trend watching reports into the appearance of the remote. The user interface designer examined the interfaces of existing products and discussed using menus within an interface using push buttons which operate like a scroll wheel. The user interface designer and industrial designer then presented two prototypes of the remote the team is working on and discussed the options for components and materials to include in their design. The buttons will be included in a later designing phase to improve the feel of the product. Afterwards, they decided to have a titanium case with plastic front and the company logo and slogan engraved. shaped like a banana and spongy. The buttons will be placed on a later date. User Interface Designer presented the prototype of the product to the group. The industrial designer discussed the interior workings of a remote and then the team discussed the option to include speech recognition in their design. combines the two functions: launching the remote at the same time as a large sporting event or DVD release. the user interface designer examined the interfaces of existing products and discussed using menus within an interface using push buttons which operate like a scroll wheel. combining the two components of completing the project will be functional, conceptual, detailed design, and detailed design. compared the designs of the team's product to a wide range of customers. compared the designs of the team's product to a wide range of customers. The back has a discussion about possibly including a display to facilitate use. The buttons will be decided on some features to include in their design. The buttons will be decided on some features to include in the remote they will produce. \""
      ]
     },
     "execution_count": 81,
     "metadata": {
      "tags": []
     },
     "output_type": "execute_result"
    }
   ],
   "source": [
    "new_df['Generated_Abstractive_Summary'][1]"
   ]
  },
  {
   "cell_type": "code",
   "execution_count": null,
   "metadata": {
    "id": "u9UosfW4HsOL"
   },
   "outputs": [],
   "source": []
  }
 ],
 "metadata": {
  "colab": {
   "collapsed_sections": [],
   "name": "Rouge_per_Document.ipynb",
   "provenance": []
  },
  "kernelspec": {
   "display_name": "Python 3",
   "language": "python",
   "name": "python3"
  },
  "language_info": {
   "codemirror_mode": {
    "name": "ipython",
    "version": 3
   },
   "file_extension": ".py",
   "mimetype": "text/x-python",
   "name": "python",
   "nbconvert_exporter": "python",
   "pygments_lexer": "ipython3",
   "version": "3.8.3"
  },
  "widgets": {
   "application/vnd.jupyter.widget-state+json": {
    "2178c472f3414a10a0558180dcd4b046": {
     "model_module": "@jupyter-widgets/base",
     "model_name": "LayoutModel",
     "state": {
      "_model_module": "@jupyter-widgets/base",
      "_model_module_version": "1.2.0",
      "_model_name": "LayoutModel",
      "_view_count": null,
      "_view_module": "@jupyter-widgets/base",
      "_view_module_version": "1.2.0",
      "_view_name": "LayoutView",
      "align_content": null,
      "align_items": null,
      "align_self": null,
      "border": null,
      "bottom": null,
      "display": null,
      "flex": null,
      "flex_flow": null,
      "grid_area": null,
      "grid_auto_columns": null,
      "grid_auto_flow": null,
      "grid_auto_rows": null,
      "grid_column": null,
      "grid_gap": null,
      "grid_row": null,
      "grid_template_areas": null,
      "grid_template_columns": null,
      "grid_template_rows": null,
      "height": null,
      "justify_content": null,
      "justify_items": null,
      "left": null,
      "margin": null,
      "max_height": null,
      "max_width": null,
      "min_height": null,
      "min_width": null,
      "object_fit": null,
      "object_position": null,
      "order": null,
      "overflow": null,
      "overflow_x": null,
      "overflow_y": null,
      "padding": null,
      "right": null,
      "top": null,
      "visibility": null,
      "width": null
     }
    },
    "30ac0def19104f829729917719b3b380": {
     "model_module": "@jupyter-widgets/controls",
     "model_name": "VBoxModel",
     "state": {
      "_dom_classes": [],
      "_model_module": "@jupyter-widgets/controls",
      "_model_module_version": "1.5.0",
      "_model_name": "VBoxModel",
      "_view_count": null,
      "_view_module": "@jupyter-widgets/controls",
      "_view_module_version": "1.5.0",
      "_view_name": "VBoxView",
      "box_style": "",
      "children": [
       "IPY_MODEL_bd44fdb8e78a48069d640b1df1e38583",
       "IPY_MODEL_40bb5605a8024ae6a822ff4f007807cf"
      ],
      "layout": "IPY_MODEL_2178c472f3414a10a0558180dcd4b046"
     }
    },
    "40bb5605a8024ae6a822ff4f007807cf": {
     "model_module": "@jupyter-widgets/controls",
     "model_name": "FloatProgressModel",
     "state": {
      "_dom_classes": [],
      "_model_module": "@jupyter-widgets/controls",
      "_model_module_version": "1.5.0",
      "_model_name": "FloatProgressModel",
      "_view_count": null,
      "_view_module": "@jupyter-widgets/controls",
      "_view_module_version": "1.5.0",
      "_view_name": "ProgressView",
      "bar_style": "",
      "description": "",
      "description_tooltip": null,
      "layout": "IPY_MODEL_c652ec57c2254b24a4a0959f072e651a",
      "max": 1,
      "min": 0,
      "orientation": "horizontal",
      "style": "IPY_MODEL_a886a8061eef4e4ba0c7a65bb281def0",
      "value": 1
     }
    },
    "93ad37e7a14f4a069440d85d6d888363": {
     "model_module": "@jupyter-widgets/controls",
     "model_name": "DescriptionStyleModel",
     "state": {
      "_model_module": "@jupyter-widgets/controls",
      "_model_module_version": "1.5.0",
      "_model_name": "DescriptionStyleModel",
      "_view_count": null,
      "_view_module": "@jupyter-widgets/base",
      "_view_module_version": "1.2.0",
      "_view_name": "StyleView",
      "description_width": ""
     }
    },
    "a886a8061eef4e4ba0c7a65bb281def0": {
     "model_module": "@jupyter-widgets/controls",
     "model_name": "ProgressStyleModel",
     "state": {
      "_model_module": "@jupyter-widgets/controls",
      "_model_module_version": "1.5.0",
      "_model_name": "ProgressStyleModel",
      "_view_count": null,
      "_view_module": "@jupyter-widgets/base",
      "_view_module_version": "1.2.0",
      "_view_name": "StyleView",
      "bar_color": null,
      "description_width": ""
     }
    },
    "ad9062705e0f4f7eb992f52e5307d17d": {
     "model_module": "@jupyter-widgets/base",
     "model_name": "LayoutModel",
     "state": {
      "_model_module": "@jupyter-widgets/base",
      "_model_module_version": "1.2.0",
      "_model_name": "LayoutModel",
      "_view_count": null,
      "_view_module": "@jupyter-widgets/base",
      "_view_module_version": "1.2.0",
      "_view_name": "LayoutView",
      "align_content": null,
      "align_items": null,
      "align_self": null,
      "border": null,
      "bottom": null,
      "display": null,
      "flex": null,
      "flex_flow": null,
      "grid_area": null,
      "grid_auto_columns": null,
      "grid_auto_flow": null,
      "grid_auto_rows": null,
      "grid_column": null,
      "grid_gap": null,
      "grid_row": null,
      "grid_template_areas": null,
      "grid_template_columns": null,
      "grid_template_rows": null,
      "height": null,
      "justify_content": null,
      "justify_items": null,
      "left": null,
      "margin": null,
      "max_height": null,
      "max_width": null,
      "min_height": null,
      "min_width": null,
      "object_fit": null,
      "object_position": null,
      "order": null,
      "overflow": null,
      "overflow_x": null,
      "overflow_y": null,
      "padding": null,
      "right": null,
      "top": null,
      "visibility": null,
      "width": null
     }
    },
    "bd44fdb8e78a48069d640b1df1e38583": {
     "model_module": "@jupyter-widgets/controls",
     "model_name": "LabelModel",
     "state": {
      "_dom_classes": [],
      "_model_module": "@jupyter-widgets/controls",
      "_model_module_version": "1.5.0",
      "_model_name": "LabelModel",
      "_view_count": null,
      "_view_module": "@jupyter-widgets/controls",
      "_view_module_version": "1.5.0",
      "_view_name": "LabelView",
      "description": "",
      "description_tooltip": null,
      "layout": "IPY_MODEL_ad9062705e0f4f7eb992f52e5307d17d",
      "placeholder": "​",
      "style": "IPY_MODEL_93ad37e7a14f4a069440d85d6d888363",
      "value": " 0.45MB of 0.45MB uploaded (0.00MB deduped)\r"
     }
    },
    "c652ec57c2254b24a4a0959f072e651a": {
     "model_module": "@jupyter-widgets/base",
     "model_name": "LayoutModel",
     "state": {
      "_model_module": "@jupyter-widgets/base",
      "_model_module_version": "1.2.0",
      "_model_name": "LayoutModel",
      "_view_count": null,
      "_view_module": "@jupyter-widgets/base",
      "_view_module_version": "1.2.0",
      "_view_name": "LayoutView",
      "align_content": null,
      "align_items": null,
      "align_self": null,
      "border": null,
      "bottom": null,
      "display": null,
      "flex": null,
      "flex_flow": null,
      "grid_area": null,
      "grid_auto_columns": null,
      "grid_auto_flow": null,
      "grid_auto_rows": null,
      "grid_column": null,
      "grid_gap": null,
      "grid_row": null,
      "grid_template_areas": null,
      "grid_template_columns": null,
      "grid_template_rows": null,
      "height": null,
      "justify_content": null,
      "justify_items": null,
      "left": null,
      "margin": null,
      "max_height": null,
      "max_width": null,
      "min_height": null,
      "min_width": null,
      "object_fit": null,
      "object_position": null,
      "order": null,
      "overflow": null,
      "overflow_x": null,
      "overflow_y": null,
      "padding": null,
      "right": null,
      "top": null,
      "visibility": null,
      "width": null
     }
    }
   }
  }
 },
 "nbformat": 4,
 "nbformat_minor": 1
}
