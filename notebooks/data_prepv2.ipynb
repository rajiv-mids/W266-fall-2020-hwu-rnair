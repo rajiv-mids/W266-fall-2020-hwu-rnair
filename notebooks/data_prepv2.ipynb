{
 "cells": [
  {
   "cell_type": "markdown",
   "metadata": {},
   "source": [
    "## ICSI corpus. \n",
    "Go through the list of files and extract passage and the summaries, using the DialogueActs as intermediary\n",
    "Uses the following mappings:\n",
    "\n",
    "__1__) meeting id -> ordered dict of word id: word\n",
    "\n",
    "__2__) meeting id -> ordered dict of dialog id -> list of (start, end) word ids that form a dialog. \n",
    "\n",
    "__3__) summary_starts, summary_ends -> sets of start and end dialog ids that belong to extractive summaries\n",
    "\n",
    "\n",
    "function `get_words(meeting, start_word=None, end_word=None)` # goes through the meeting and returns words from start to end if provided. Else prints everything\n",
    "\n",
    "function `extract_dialogues(meeting)` # goes through the meeting and returns list of  (dialogue, SummaryFlag) for the meeting\n"
   ]
  },
  {
   "cell_type": "code",
   "execution_count": 1,
   "metadata": {},
   "outputs": [],
   "source": [
    "import glob, os\n",
    "#import xml.etree.ElementTree as et\n",
    "from lxml import etree as et\n",
    "from collections import OrderedDict, defaultdict\n",
    "import matplotlib.pyplot as plt\n",
    "import numpy as np\n",
    "ROOT_DIR = \"/home/rajivn/W266/W266-fall-2020-hwu-rnair/data/ICSI_plus_NXT/ICSIplus\""
   ]
  },
  {
   "cell_type": "markdown",
   "metadata": {},
   "source": [
    "### Extract words\n",
    "\n",
    "__1__) meeting id -> ordered dict of word id: word"
   ]
  },
  {
   "cell_type": "code",
   "execution_count": 2,
   "metadata": {
    "scrolled": false
   },
   "outputs": [],
   "source": [
    "meeting_dict = dict() # key = meeting, value = ordered dict of word id: word\n",
    "cur_word = None\n",
    "for word_f in sorted(glob.glob(ROOT_DIR+\"/Words/*xml\")):\n",
    "    m = word_f.split(\"/\")[-1].split(\".\")\n",
    "    meeting_name = m[0]+\".\"+m[1]\n",
    "    root = et.parse(word_f).getroot()\n",
    "    nodes = root.findall('*')\n",
    "    meet_words = OrderedDict()\n",
    "\n",
    "    for node in nodes:\n",
    "        if node.tag=='w':\n",
    "            meet_words[node.attrib['{http://nite.sourceforge.net/}id']] = node.text\n",
    "            cur_word = node.text\n",
    "        for w in node.values():\n",
    "            if \"disfmarker\" in w or \"pause\" in w or \"vocalsound\" in w:\n",
    "                meet_words [node.attrib['{http://nite.sourceforge.net/}id']] = None\n",
    "    meeting_dict[meeting_name] = meet_words\n",
    "    \n",
    "#meeting_dict['Bdb001.D']['Bdb001.w.2,391']"
   ]
  },
  {
   "cell_type": "code",
   "execution_count": 3,
   "metadata": {},
   "outputs": [
    {
     "data": {
      "text/plain": [
       "\"So you 're essentially defining a lattice . Yeah . How - how Oh , that 's \""
      ]
     },
     "execution_count": 3,
     "metadata": {},
     "output_type": "execute_result"
    }
   ],
   "source": [
    "def get_words(meeting, start=None, end=None):\n",
    "    ret = \"\"\n",
    "    include = False\n",
    "    if start is None:\n",
    "        include = True\n",
    "\n",
    "    for meet_word in meeting_dict[meeting].keys():\n",
    "\n",
    "        if start is not None and meet_word == start:\n",
    "            include = True\n",
    "        if include:\n",
    "            if meeting_dict[meeting][meet_word] is not None:\n",
    "                ret += meeting_dict[meeting][meet_word] + \" \"\n",
    "        if end is not None and meet_word == end:\n",
    "            include = False\n",
    "\n",
    "    return ret\n",
    "\n",
    "get_words('Bdb001.A', \"Bdb001.w.915\", \"Bdb001.disfmarker.49\")\n",
    "#get_words('Bns002.D')"
   ]
  },
  {
   "cell_type": "markdown",
   "metadata": {},
   "source": [
    "### Extract Dialogues\n",
    "\n",
    "__2__) meeting id -> ordered dict of dialog id -> tuple of (start, end) word ids that form a dialog. "
   ]
  },
  {
   "cell_type": "code",
   "execution_count": 4,
   "metadata": {},
   "outputs": [],
   "source": [
    "meeting_dialogues = dict() # key = meeting name, value = ordered dict of dialog id -> List of (start, end, SummaryFlag) word ids that form a dialog. \n",
    "for dialog_f in sorted(glob.glob(ROOT_DIR+\"/DialogueActs/*acts.xml\")):\n",
    "    m = dialog_f.split(\"/\")[-1].split(\".\")\n",
    "    meeting_name = m[0]+\".\"+m[1]\n",
    "    root = et.parse(dialog_f).getroot()\n",
    "    dlist = root.findall('dialogueact')\n",
    "    for dl in dlist:\n",
    "        nodes = dl.findall(\"{http://nite.sourceforge.net/}child\")\n",
    "        dialog_id = dl.attrib['{http://nite.sourceforge.net/}id']\n",
    "\n",
    "        for dl_c in nodes:\n",
    "            words = dl_c.attrib['href']\n",
    "            words = words.split(\"#\")[1]\n",
    "            try:\n",
    "                start, end = words.split(\"..\")\n",
    "                start, end = start.replace(\"id\", \"\"), end.replace(\"id\", \"\")\n",
    "                start, end = start.replace(\"(\", \"\"), end.replace(\"(\", \"\")\n",
    "                start, end = start.replace(\")\", \"\"), end.replace(\")\", \"\")\n",
    "            except:\n",
    "                start = end = words.replace(\"id\", \"\").replace(\"(\", \"\").replace(\")\", \"\")\n",
    "            if meeting_name not in meeting_dialogues:\n",
    "                meeting_dialogues[meeting_name] = OrderedDict()\n",
    "            meeting_dialogues[meeting_name][dialog_id] = [start, end, None]\n",
    "\n"
   ]
  },
  {
   "cell_type": "markdown",
   "metadata": {},
   "source": [
    "### Extract summaries"
   ]
  },
  {
   "cell_type": "markdown",
   "metadata": {},
   "source": [
    "__3__) meeting id -> set of dialog ids that belong to extractive summaries"
   ]
  },
  {
   "cell_type": "code",
   "execution_count": 5,
   "metadata": {},
   "outputs": [],
   "source": [
    "summary_starts, summary_ends = set(),set() # key = meeting name, list (2) of set of Dialogue starts and ends\n",
    "\n",
    "for dialog_f in sorted(glob.glob(ROOT_DIR+\"/Contributions/Summarization/extractive/*extsumm.xml\")):\n",
    "    m = dialog_f.split(\"/\")[-1].split(\".\")\n",
    "    meeting_name = m[0]+\".\"+m[1]\n",
    "    root = et.parse(dialog_f).getroot()\n",
    "    dlist = root.findall('extsumm/{http://nite.sourceforge.net/}child')\n",
    "    for dl in dlist:\n",
    "        dialogs = dl.attrib['href']\n",
    "        dialogs = dialogs.split(\"#\")[1]\n",
    "        start = end = None\n",
    "        try:\n",
    "            start, end = dialogs.split(\"..\")\n",
    "            start, end = start.replace(\"id\", \"\"), end.replace(\"id\", \"\")\n",
    "            start, end = start.replace(\"(\", \"\"), end.replace(\"(\", \"\")\n",
    "            start, end = start.replace(\")\", \"\"), end.replace(\")\", \"\")\n",
    "        except:\n",
    "            start = end = dialogs.replace(\"id\", \"\").replace(\"(\", \"\").replace(\")\", \"\")\n",
    "        summary_starts.add(start)\n",
    "        summary_ends.add(end)"
   ]
  },
  {
   "cell_type": "code",
   "execution_count": 6,
   "metadata": {
    "scrolled": false
   },
   "outputs": [],
   "source": [
    "def extract_dialogues(meeting):\n",
    "    # loop through all the meetings and (optionally) return only the ones that fall in range of starts/ends\n",
    "    ret = []\n",
    "    dialogues = meeting_dialogues[meeting]\n",
    "    include = False\n",
    "    for dialog, (start_w, end_w, _) in dialogues.items():\n",
    "        if dialog in summary_starts:\n",
    "            include = True\n",
    "        if include:\n",
    "            ret.append((dialog, start_w, end_w, get_words(meeting, start_w, end_w), True))\n",
    "            meeting_dialogues[meeting][dialog][2] = True\n",
    "        else:\n",
    "            ret.append((dialog, start_w, end_w, get_words(meeting, start_w, end_w), False))\n",
    "            meeting_dialogues[meeting][dialog][2] = False\n",
    "        if dialog in summary_ends:\n",
    "            include = False\n",
    "    return ret\n"
   ]
  },
  {
   "cell_type": "code",
   "execution_count": 7,
   "metadata": {
    "scrolled": false
   },
   "outputs": [],
   "source": [
    "#extract_dialogues('Bns002.D')\n"
   ]
  },
  {
   "cell_type": "code",
   "execution_count": 8,
   "metadata": {},
   "outputs": [],
   "source": [
    "# go through all meetings and write out dialogues to files\n",
    "diags=[]\n",
    "for meeting in meeting_dialogues.keys():\n",
    "    with open(\"../data/ICSI_plus_NXT/processing/\"+meeting+\"_summaries.txt\", \"w\") as f:\n",
    "        for _, _, _, diag, summ_flag in extract_dialogues(meeting):\n",
    "            diags.append(diag)\n",
    "            f.write(diag)\n",
    "            f.write(\"|\")\n",
    "            f.write(str(int(summ_flag)))\n",
    "            f.write(\"\\n\")\n"
   ]
  },
  {
   "cell_type": "code",
   "execution_count": 9,
   "metadata": {
    "scrolled": false
   },
   "outputs": [
    {
     "data": {
      "text/plain": [
       "479"
      ]
     },
     "execution_count": 9,
     "metadata": {},
     "output_type": "execute_result"
    },
    {
     "data": {
      "image/png": "[encoded data removed]",
      "text/plain": [
       "<Figure size 432x288 with 1 Axes>"
      ]
     },
     "metadata": {
      "needs_background": "light"
     },
     "output_type": "display_data"
    }
   ],
   "source": [
    "sents = []\n",
    "n_sents = []\n",
    "for dia in diags:\n",
    "    if len(dia) > 1000:\n",
    "        print (dia)\n",
    "        break\n",
    "    n_sents.append(len(dia))\n",
    "\n",
    "plt.hist(np.array(n_sents))\n",
    "\n",
    "max(np.array(n_sents))"
   ]
  },
  {
   "cell_type": "code",
   "execution_count": null,
   "metadata": {},
   "outputs": [],
   "source": []
  }
 ],
 "metadata": {
  "kernelspec": {
   "display_name": "Python 3",
   "language": "python",
   "name": "python3"
  },
  "language_info": {
   "codemirror_mode": {
    "name": "ipython",
    "version": 3
   },
   "file_extension": ".py",
   "mimetype": "text/x-python",
   "name": "python",
   "nbconvert_exporter": "python",
   "pygments_lexer": "ipython3",
   "version": "3.8.3"
  }
 },
 "nbformat": 4,
 "nbformat_minor": 4
}
