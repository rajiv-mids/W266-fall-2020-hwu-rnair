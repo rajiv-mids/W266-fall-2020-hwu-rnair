{
 "cells": [
  {
   "cell_type": "markdown",
   "metadata": {},
   "source": [
    "## ICSI and AMI corpus processing. \n",
    "Go through the list of files and extract passage and the summaries, using the DialogueActs as intermediary\n",
    "Uses the following mappings:\n",
    "\n",
    "__1__) meeting id -> ordered dict of word id: word\n",
    "\n",
    "__2__) meeting id -> ordered dict of dialog id -> list of (start, end) word ids that form a dialog. \n",
    "\n",
    "__3__) summary_starts, summary_ends -> sets of start and end dialog ids that belong to extractive summaries\n",
    "\n",
    "\n",
    "function `get_words(meeting, start_word=None, end_word=None)` # goes through the meeting and returns words from start to end if provided. Else prints everything\n",
    "\n",
    "function `extract_dialogues(meeting)` # goes through the meeting and returns list of  (dialogue, SummaryFlag) for the meeting\n"
   ]
  },
  {
   "cell_type": "code",
   "execution_count": 1,
   "metadata": {},
   "outputs": [],
   "source": [
    "import glob, os\n",
    "#import xml.etree.ElementTree as et\n",
    "from lxml import etree as et\n",
    "from collections import OrderedDict, defaultdict\n",
    "import matplotlib.pyplot as plt\n",
    "import numpy as np\n",
    "ROOT_DIR = \"/home/rajivn/W266/W266-fall-2020-hwu-rnair/data/\""
   ]
  },
  {
   "cell_type": "code",
   "execution_count": 2,
   "metadata": {},
   "outputs": [],
   "source": [
    "ICSI_PATHS = {\"words\":ROOT_DIR+\"ICSI_plus_NXT/ICSIplus/Words/*xml\", \n",
    "              \"d_acts\":ROOT_DIR+\"ICSI_plus_NXT/ICSIplus//DialogueActs/*acts.xml\", \n",
    "              \"extsumm\":ROOT_DIR+\"ICSI_plus_NXT/ICSIplus/Contributions/Summarization/extractive/*extsumm.xml\",\n",
    "              \"d_tag\": \"dialogueact\",\n",
    "              \"out_dir\": ROOT_DIR+\"ICSI_plus_NXT/processing/\"}\n",
    "\n",
    "\n",
    "AMI_PATHS = {\"words\":ROOT_DIR+\"ami_public_manual_1.6.2/words/*xml\", \n",
    "              \"d_acts\":ROOT_DIR+\"ami_public_manual_1.6.2/dialogueActs/*act.xml\", \n",
    "              \"extsumm\":ROOT_DIR+\"ami_public_manual_1.6.2/extractive/*extsumm.xml\",\n",
    "              \"d_tag\": \"dact\",\n",
    "              \"out_dir\": ROOT_DIR+\"ami_public_manual_1.6.2/processing/\"}\n",
    "\n",
    "# change this to ICSI_PATHS if you want to process ICSI\n",
    "p_dict = AMI_PATHS"
   ]
  },
  {
   "cell_type": "markdown",
   "metadata": {},
   "source": [
    "### Extract words\n",
    "\n",
    "__1__) meeting id -> ordered dict of word id: word"
   ]
  },
  {
   "cell_type": "code",
   "execution_count": 3,
   "metadata": {
    "scrolled": false
   },
   "outputs": [
    {
     "name": "stdout",
     "output_type": "stream",
     "text": [
      "/home/rajivn/W266/W266-fall-2020-hwu-rnair/data/ami_public_manual_1.6.2/words/*xml\n"
     ]
    }
   ],
   "source": [
    "def get_meeting_words(path):\n",
    "    print(path)\n",
    "    meeting_dict = dict() # key = meeting, value = ordered dict of word id: word\n",
    "    cur_word = None\n",
    "    for word_f in sorted(glob.glob(path)):\n",
    "        m = word_f.split(\"/\")[-1].split(\".\")\n",
    "        meeting_name = m[0]+\".\"+m[1]\n",
    "        root = et.parse(word_f).getroot()\n",
    "        nodes = root.findall('*')\n",
    "        meet_words = OrderedDict()\n",
    "\n",
    "        for node in nodes:\n",
    "            if node.tag=='w':\n",
    "                meet_words[node.attrib['{http://nite.sourceforge.net/}id']] = node.text\n",
    "                cur_word = node.text\n",
    "            else:\n",
    "                meet_words [node.attrib['{http://nite.sourceforge.net/}id']] = None\n",
    "\n",
    "                    \n",
    "        meeting_dict[meeting_name] = meet_words\n",
    "    return meeting_dict\n",
    "\n",
    "meeting_dict = get_meeting_words(p_dict[\"words\"])\n"
   ]
  },
  {
   "cell_type": "code",
   "execution_count": 4,
   "metadata": {
    "scrolled": false
   },
   "outputs": [],
   "source": [
    "def get_words(meeting, start=None, end=None):\n",
    "    ret = \"\"\n",
    "    include = False\n",
    "    if start is None:\n",
    "        include = True\n",
    "\n",
    "    for meet_word in meeting_dict[meeting].keys():\n",
    "\n",
    "        if start is not None and meet_word == start:\n",
    "            include = True\n",
    "        if include:\n",
    "            if meeting_dict[meeting][meet_word] is not None:\n",
    "                ret += meeting_dict[meeting][meet_word] + \" \"\n",
    "        if end is not None and meet_word == end:\n",
    "            include = False\n",
    "\n",
    "    return ret\n",
    "\n",
    "#get_words('TS3012b.A','TS3012b.A.words36','TS3012b.A.words39')\n",
    "#meeting_dict['TS3012b.A']['TS3012b.A.words39']"
   ]
  },
  {
   "cell_type": "markdown",
   "metadata": {},
   "source": [
    "### Extract Dialogues\n",
    "\n",
    "__2__) meeting id -> ordered dict of dialog id -> tuple of (start, end) word ids that form a dialog. "
   ]
  },
  {
   "cell_type": "code",
   "execution_count": 5,
   "metadata": {},
   "outputs": [
    {
     "name": "stdout",
     "output_type": "stream",
     "text": [
      "/home/rajivn/W266/W266-fall-2020-hwu-rnair/data/ami_public_manual_1.6.2/dialogueActs/*act.xml\n"
     ]
    }
   ],
   "source": [
    "def get_meeting_dialogues(path, d_tag):\n",
    "    print(path)\n",
    "    meeting_dialogues = dict() # key = meeting name, value = ordered dict of dialog id -> List of (start, end, SummaryFlag) word ids that form a dialog. \n",
    "    for dialog_f in sorted(glob.glob(path)):\n",
    "        m = dialog_f.split(\"/\")[-1].split(\".\")\n",
    "        meeting_name = m[0]+\".\"+m[1]\n",
    "        root = et.parse(dialog_f).getroot()\n",
    "        dlist = root.findall(d_tag)\n",
    "        for dl in dlist:\n",
    "            nodes = dl.findall(\"{http://nite.sourceforge.net/}child\")\n",
    "            dialog_id = dl.attrib['{http://nite.sourceforge.net/}id']\n",
    "\n",
    "            for dl_c in nodes:\n",
    "                words = dl_c.attrib['href']\n",
    "                words = words.split(\"#\")[1]\n",
    "                try:\n",
    "                    start, end = words.split(\"..\")\n",
    "                    start, end = start.replace(\"id\", \"\"), end.replace(\"id\", \"\")\n",
    "                    start, end = start.replace(\"(\", \"\"), end.replace(\"(\", \"\")\n",
    "                    start, end = start.replace(\")\", \"\"), end.replace(\")\", \"\")\n",
    "                except:\n",
    "                    start = end = words.replace(\"id\", \"\").replace(\"(\", \"\").replace(\")\", \"\")\n",
    "                if meeting_name not in meeting_dialogues:\n",
    "                    meeting_dialogues[meeting_name] = OrderedDict()\n",
    "                meeting_dialogues[meeting_name][dialog_id] = [start, end, None]\n",
    "    return meeting_dialogues\n",
    "\n",
    "meeting_dialogues = get_meeting_dialogues(p_dict[\"d_acts\"], p_dict[\"d_tag\"])\n",
    "#meeting_dialogues.keys()"
   ]
  },
  {
   "cell_type": "markdown",
   "metadata": {},
   "source": [
    "### Extract summaries"
   ]
  },
  {
   "cell_type": "markdown",
   "metadata": {},
   "source": [
    "__3__) meeting id -> set of dialog ids that belong to extractive summaries"
   ]
  },
  {
   "cell_type": "code",
   "execution_count": 6,
   "metadata": {},
   "outputs": [
    {
     "data": {
      "text/plain": [
       "13568"
      ]
     },
     "execution_count": 6,
     "metadata": {},
     "output_type": "execute_result"
    }
   ],
   "source": [
    "def get_summaries(path):\n",
    "    summary_starts, summary_ends = set(),set() # key = meeting name, list (2) of set of Dialogue starts and ends\n",
    "\n",
    "    for dialog_f in sorted(glob.glob(path)):\n",
    "        m = dialog_f.split(\"/\")[-1].split(\".\")\n",
    "        meeting_name = m[0]+\".\"+m[1]\n",
    "        root = et.parse(dialog_f).getroot()\n",
    "        dlist = root.findall('extsumm/{http://nite.sourceforge.net/}child')\n",
    "        for dl in dlist:\n",
    "            dialogs = dl.attrib['href']\n",
    "            dialogs = dialogs.split(\"#\")[1]\n",
    "            start = end = None\n",
    "            try:\n",
    "                start, end = dialogs.split(\"..\")\n",
    "                start, end = start.replace(\"id\", \"\"), end.replace(\"id\", \"\")\n",
    "                start, end = start.replace(\"(\", \"\"), end.replace(\"(\", \"\")\n",
    "                start, end = start.replace(\")\", \"\"), end.replace(\")\", \"\")\n",
    "            except:\n",
    "                start = end = dialogs.replace(\"id\", \"\").replace(\"(\", \"\").replace(\")\", \"\")\n",
    "            summary_starts.add(start)\n",
    "            summary_ends.add(end)\n",
    "    return summary_starts, summary_ends\n",
    "\n",
    "summary_starts, summary_ends = get_summaries(p_dict[\"extsumm\"])\n",
    "len(summary_ends)"
   ]
  },
  {
   "cell_type": "code",
   "execution_count": 7,
   "metadata": {
    "scrolled": false
   },
   "outputs": [],
   "source": [
    "def extract_dialogues(meeting):\n",
    "    # loop through all the meetings and (optionally) return only the ones that fall in range of starts/ends\n",
    "    ret = []\n",
    "    dialogues = meeting_dialogues[meeting]\n",
    "    include = False\n",
    "    for dialog, (start_w, end_w, _) in dialogues.items():\n",
    "        if dialog in summary_starts:\n",
    "            include = True\n",
    "        if include:\n",
    "            ret.append((dialog, start_w, end_w, get_words(meeting, start_w, end_w), True))\n",
    "            meeting_dialogues[meeting][dialog][2] = True\n",
    "        else:\n",
    "            ret.append((dialog, start_w, end_w, get_words(meeting, start_w, end_w), False))\n",
    "            meeting_dialogues[meeting][dialog][2] = False\n",
    "        if dialog in summary_ends:\n",
    "            include = False\n",
    "    return ret\n"
   ]
  },
  {
   "cell_type": "code",
   "execution_count": 8,
   "metadata": {
    "scrolled": false
   },
   "outputs": [],
   "source": [
    "#extract_dialogues('TS3012b.A')"
   ]
  },
  {
   "cell_type": "code",
   "execution_count": 9,
   "metadata": {},
   "outputs": [],
   "source": [
    "# go through all meetings and write out dialogues to files\n",
    "diags=[]\n",
    "totals = [0, 0]\n",
    "for meeting in meeting_dialogues.keys():\n",
    "    with open(p_dict[\"out_dir\"]+meeting+\"_summaries.txt\", \"w\") as f:\n",
    "        for _, _, _, diag, summ_flag in extract_dialogues(meeting):\n",
    "            diags.append(diag)\n",
    "            f.write(diag)\n",
    "            f.write(\"|\")\n",
    "            f.write(str(int(summ_flag)))\n",
    "            f.write(\"\\n\")\n",
    "            totals[0] += 1\n",
    "            totals[1] += int(summ_flag)\n"
   ]
  },
  {
   "cell_type": "code",
   "execution_count": 10,
   "metadata": {
    "scrolled": false
   },
   "outputs": [
    {
     "data": {
      "text/plain": [
       "392"
      ]
     },
     "execution_count": 10,
     "metadata": {},
     "output_type": "execute_result"
    },
    {
     "data": {
      "image/png": "[encoded data removed]",
      "text/plain": [
       "<Figure size 432x288 with 1 Axes>"
      ]
     },
     "metadata": {
      "needs_background": "light"
     },
     "output_type": "display_data"
    }
   ],
   "source": [
    "n_sents = []\n",
    "for dia in diags:\n",
    "    if len(dia) > 1000:\n",
    "        print (dia)\n",
    "        break\n",
    "    n_sents.append(len(dia))\n",
    "\n",
    "plt.hist(np.array(n_sents))\n",
    "\n",
    "max(np.array(n_sents))"
   ]
  },
  {
   "cell_type": "markdown",
   "metadata": {},
   "source": [
    "### Distribution of labels"
   ]
  },
  {
   "cell_type": "code",
   "execution_count": 11,
   "metadata": {},
   "outputs": [
    {
     "data": {
      "text/plain": [
       "[117915, 19159]"
      ]
     },
     "execution_count": 11,
     "metadata": {},
     "output_type": "execute_result"
    }
   ],
   "source": [
    "totals"
   ]
  },
  {
   "cell_type": "code",
   "execution_count": 12,
   "metadata": {},
   "outputs": [
    {
     "data": {
      "text/plain": [
       "0.16248144850103888"
      ]
     },
     "execution_count": 12,
     "metadata": {},
     "output_type": "execute_result"
    }
   ],
   "source": [
    "totals[1]/totals[0]"
   ]
  },
  {
   "cell_type": "code",
   "execution_count": null,
   "metadata": {},
   "outputs": [],
   "source": []
  }
 ],
 "metadata": {
  "kernelspec": {
   "display_name": "Python 3",
   "language": "python",
   "name": "python3"
  },
  "language_info": {
   "codemirror_mode": {
    "name": "ipython",
    "version": 3
   },
   "file_extension": ".py",
   "mimetype": "text/x-python",
   "name": "python",
   "nbconvert_exporter": "python",
   "pygments_lexer": "ipython3",
   "version": "3.8.3"
  }
 },
 "nbformat": 4,
 "nbformat_minor": 4
}
